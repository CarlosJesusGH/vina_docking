{
 "cells": [
  {
   "cell_type": "code",
   "execution_count": 1,
   "id": "8c39847a-f1b8-4246-86b9-2173c2e0cf77",
   "metadata": {},
   "outputs": [],
   "source": [
    "%%bash\n",
    "# remove everything except this notebook\n",
    "shopt -s extglob\n",
    "rm -rf !(\"notebook.ipynb\") \n",
    "# to test any error in the terminal, use:\n",
    "# ipython3 -c \"%run notebook.ipynb\""
   ]
  },
  {
   "cell_type": "code",
   "execution_count": 12,
   "id": "0e2ddac4-2610-478b-a29d-f1925cac929a",
   "metadata": {},
   "outputs": [
    {
     "name": "stdout",
     "output_type": "stream",
     "text": [
      "# conda environments:\n",
      "#\n",
      "base                     /opt/conda\n",
      "\n"
     ]
    }
   ],
   "source": [
    "!conda env list"
   ]
  },
  {
   "cell_type": "markdown",
   "id": "1ff0d549-aacd-4b17-848d-1c374548f639",
   "metadata": {
    "jp-MarkdownHeadingCollapsed": true,
    "tags": []
   },
   "source": [
    "# Example of creating a simple receptor and a simple ligand, then moving the ligand out of the box\n",
    "\n",
    "from: https://github.com/ccsb-scripps/AutoDock-Vina/issues/112"
   ]
  },
  {
   "cell_type": "code",
   "execution_count": 3,
   "id": "c3273ff9-d413-4767-a422-d0f45af337d3",
   "metadata": {},
   "outputs": [
    {
     "name": "stdout",
     "output_type": "stream",
     "text": [
      "vina version: 1.2.3\n",
      "Computing Vina grid ... done.\n",
      "ligand center:    0.034   -0.212    0.000\n",
      "score: [29. 29.  0.  0.  0.  0.  0.  0.]\n"
     ]
    }
   ],
   "source": [
    "from rdkit import Chem\n",
    "from rdkit.Chem import rdDistGeom\n",
    "from meeko import MoleculePreparation\n",
    "from vina import Vina\n",
    "import numpy as np\n",
    "import vina\n",
    "\n",
    "def print_ligand_center(molsetup):\n",
    "    lig_xyz = []\n",
    "    for atom_index, is_atom_ignored in molsetup.atom_ignore.items():\n",
    "        if not is_atom_ignored:\n",
    "            lig_xyz.append(molsetup.coord[atom_index].copy())\n",
    "    lig_xyz = np.array(lig_xyz)\n",
    "    print(\"ligand center: %8.3f %8.3f %8.3f\" % tuple(np.mean(lig_xyz, 0)))\n",
    "\n",
    "try:\n",
    "    print(\"vina version:\", vina.__version__)\n",
    "except AttributeError:\n",
    "    print(\"vina.__version__ not available:\")\n",
    "\n",
    "receptor_string = \"ATOM      1  C   UNL     1       0.000   0.000   0.000  0.00  0.00    +0.000 C \"\n",
    "rec_fn = \"my_rec_is_just_a_carbon.pdbqt\"\n",
    "print(receptor_string, file=open(rec_fn, \"w\"))\n",
    "\n",
    "maps_center = [0, 0, 0]\n",
    "maps_size_angstroms = [10, 10, 10]\n",
    "\n",
    "pyridine = Chem.MolFromSmiles(\"C1=CC=CN=C1\")\n",
    "pyridine = Chem.AddHs(pyridine)\n",
    "etkdg_params = rdDistGeom.ETKDGv3()\n",
    "rdDistGeom.EmbedMolecule(pyridine, etkdg_params)\n",
    "\n",
    "mkprep = MoleculePreparation()\n",
    "mkprep.prepare(pyridine)\n",
    "lig_string = mkprep.write_pdbqt_string()\n",
    "\n",
    "v = Vina()\n",
    "v.set_receptor(rec_fn)\n",
    "v.set_ligand_from_string(lig_string)\n",
    "v.compute_vina_maps(center=maps_center, box_size=maps_size_angstroms)\n",
    "\n",
    "# ---------\n",
    "\n",
    "print_ligand_center(mkprep.setup)\n",
    "score = v.score()\n",
    "print(\"score:\", score)\n",
    "\n",
    "if False: # this stops the kernel without even throwing an exception\n",
    "    # translate ligand out of box\n",
    "    for atom_index in mkprep.setup.coord:\n",
    "        x, y, z = mkprep.setup.coord[atom_index]\n",
    "        mkprep.setup.coord[atom_index] = np.array([x + 200, y + 200, z + 200])\n",
    "\n",
    "    print_ligand_center(mkprep.setup)\n",
    "    lig_string = mkprep.write_pdbqt_string()\n",
    "    v.set_ligand_from_string(lig_string)\n",
    "    score = v.score()\n",
    "    print(\"score:\", score)"
   ]
  },
  {
   "cell_type": "markdown",
   "id": "47fe7480-b627-44ed-9d1c-fa0f61d7f0e3",
   "metadata": {},
   "source": [
    "# One example using the vina first official example and try to move the protein from their original location"
   ]
  },
  {
   "cell_type": "code",
   "execution_count": 2,
   "id": "a8c1eb1a-13d3-4cde-aca5-b0ca7941217e",
   "metadata": {},
   "outputs": [
    {
     "name": "stdout",
     "output_type": "stream",
     "text": [
      "--2023-04-19 13:50:29--  https://raw.githubusercontent.com/ccsb-scripps/AutoDock-Vina/develop/example/python_scripting/1iep_receptor.pdbqt\n",
      "Resolving raw.githubusercontent.com (raw.githubusercontent.com)... 185.199.108.133, 185.199.109.133, 185.199.110.133, ...\n",
      "Connecting to raw.githubusercontent.com (raw.githubusercontent.com)|185.199.108.133|:443... connected.\n",
      "HTTP request sent, awaiting response... 200 OK\n",
      "Length: 216188 (211K) [text/plain]\n",
      "Saving to: ‘1iep_receptor.pdbqt’\n",
      "\n",
      "1iep_receptor.pdbqt 100%[===================>] 211.12K  --.-KB/s    in 0.01s   \n",
      "\n",
      "2023-04-19 13:50:29 (17.1 MB/s) - ‘1iep_receptor.pdbqt’ saved [216188/216188]\n",
      "\n"
     ]
    }
   ],
   "source": [
    "!wget https://raw.githubusercontent.com/ccsb-scripps/AutoDock-Vina/develop/example/python_scripting/1iep_ligand.pdbqt\n",
    "!wget https://raw.githubusercontent.com/ccsb-scripps/AutoDock-Vina/develop/example/python_scripting/1iep_receptor.pdbqt"
   ]
  },
  {
   "cell_type": "code",
   "execution_count": 3,
   "id": "8b3caaa2-231a-4aca-b665-0f900575ea45",
   "metadata": {},
   "outputs": [
    {
     "name": "stdout",
     "output_type": "stream",
     "text": [
      "Computing Vina grid ... Score before minimization: -12.513 (kcal/mol)\n",
      "done.\n"
     ]
    }
   ],
   "source": [
    "from vina import Vina\n",
    "\n",
    "# class vina.vina.Vina(sf_name='vina', cpu=0, seed=0, no_refine=False, verbosity=1)\n",
    "v = Vina(sf_name='vina', seed=1)\n",
    "\n",
    "v.set_receptor('1iep_receptor.pdbqt')\n",
    "\n",
    "v.set_ligand_from_file('1iep_ligand.pdbqt')\n",
    "v.compute_vina_maps(center=[15.190, 53.903, 16.917], box_size=[20, 20, 20])\n",
    "\n",
    "# Score the current pose\n",
    "energy = v.score()\n",
    "print('Score before minimization: %.3f (kcal/mol)' % energy[0])\n",
    "\n",
    "# not in the original example\n",
    "# v.write_pose('1iep_ligand_before_minimized.pdbqt', overwrite=True)"
   ]
  },
  {
   "cell_type": "code",
   "execution_count": 6,
   "id": "0ed37547-4246-4604-933b-a63bbb16df99",
   "metadata": {},
   "outputs": [
    {
     "name": "stdout",
     "output_type": "stream",
     "text": [
      "--2023-04-19 17:23:02--  https://raw.githubusercontent.com/ccsb-scripps/AutoDock-Vina/develop/example/basic_docking/data/1iep_ligand.sdf\n",
      "Resolving raw.githubusercontent.com (raw.githubusercontent.com)... 185.199.109.133, 185.199.110.133, 185.199.108.133, ...\n",
      "Connecting to raw.githubusercontent.com (raw.githubusercontent.com)|185.199.109.133|:443... connected.\n",
      "HTTP request sent, awaiting response... 200 OK\n",
      "Length: 6621 (6.5K) [text/plain]\n",
      "Saving to: ‘1iep_ligand.sdf’\n",
      "\n",
      "1iep_ligand.sdf     100%[===================>]   6.47K  --.-KB/s    in 0s      \n",
      "\n",
      "2023-04-19 17:23:02 (45.1 MB/s) - ‘1iep_ligand.sdf’ saved [6621/6621]\n",
      "\n"
     ]
    }
   ],
   "source": [
    "!wget https://raw.githubusercontent.com/ccsb-scripps/AutoDock-Vina/develop/example/basic_docking/data/1iep_ligand.sdf"
   ]
  },
  {
   "cell_type": "code",
   "execution_count": null,
   "id": "2525c7c3-3166-4269-abff-c3da0f3b344e",
   "metadata": {},
   "outputs": [],
   "source": [
    "#from: https://pypi.org/project/meeko/0.3.3/\n",
    "\n",
    "from meeko import MoleculePreparation\n",
    "from rdkit import Chem\n",
    "\n",
    "# input_molecule_file = 'example/BACE_macrocycle/BACE_4.mol2'\n",
    "# mol = Chem.MolFromMol2File(input_molecule_file)\n",
    "mol = Chem.SDMolSupplier('1iep_ligand.sdf')[0]\n",
    "\n",
    "preparator = MoleculePreparation(hydrate=True) # macrocycles flexible by default since v0.3.0\n",
    "preparator.prepare(mol)\n",
    "preparator.show_setup()\n",
    "\n",
    "# output_pdbqt_file = \"test_macrocycle_hydrate.pdbqt\"\n",
    "# preparator.write_pdbqt_file(output_pdbqt_file)\n"
   ]
  },
  {
   "cell_type": "code",
   "execution_count": 1,
   "id": "7fb6cc79-4f44-4f5c-9a8e-c86ee4e963b9",
   "metadata": {},
   "outputs": [],
   "source": []
  },
  {
   "cell_type": "code",
   "execution_count": 15,
   "id": "36fe63c3-4c2e-4e1f-b086-ab9ae78c2b33",
   "metadata": {},
   "outputs": [
    {
     "name": "stdout",
     "output_type": "stream",
     "text": [
      "Overwriting test_script_02.py\n"
     ]
    }
   ],
   "source": [
    "%%file test_script_02.py\n",
    "\n",
    "from vina import Vina\n",
    "import numpy as np\n",
    "from meeko import MoleculePreparation\n",
    "from rdkit import Chem\n",
    "from rdkit.Chem import rdDistGeom\n",
    "\n",
    "def print_ligand_center(molsetup):\n",
    "    lig_xyz = []\n",
    "    for atom_index, is_atom_ignored in molsetup.atom_ignore.items():\n",
    "        if not is_atom_ignored:\n",
    "            lig_xyz.append(molsetup.coord[atom_index].copy())\n",
    "    lig_xyz = np.array(lig_xyz)\n",
    "    print(\"ligand center: %8.3f %8.3f %8.3f\" % tuple(np.mean(lig_xyz, 0)))\n",
    "    \n",
    "def translate_ligand(mkprep, new_center):\n",
    "    # translate ligand to new center\n",
    "    for atom_index in mkprep.setup.coord:\n",
    "        x, y, z = mkprep.setup.coord[atom_index]\n",
    "        mkprep.setup.coord[atom_index] = np.array([x + new_center[0], y + new_center[1], z + new_center[2]])\n",
    "\n",
    "# class vina.vina.Vina(sf_name='vina', cpu=0, seed=0, no_refine=False, verbosity=1)\n",
    "v = Vina(sf_name='vina', seed=1)\n",
    "\n",
    "v.set_receptor('1iep_receptor.pdbqt')\n",
    "\n",
    "# pyridine = Chem.MolFromSmiles(\"C1=CC=CN=C1\")\n",
    "# pyridine = Chem.AddHs(pyridine)\n",
    "# etkdg_params = rdDistGeom.ETKDGv3()\n",
    "# rdDistGeom.EmbedMolecule(pyridine, etkdg_params)\n",
    "\n",
    "mol = Chem.SDMolSupplier('1iep_ligand.sdf')[0]\n",
    "mol = Chem.AddHs(mol)\n",
    "etkdg_params = rdDistGeom.ETKDGv3()\n",
    "rdDistGeom.EmbedMolecule(mol, etkdg_params)\n",
    "\n",
    "mkprep = MoleculePreparation()\n",
    "mkprep.prepare(mol)\n",
    "# preparator.show_setup()\n",
    "lig_string = mkprep.write_pdbqt_string()\n",
    "\n",
    "v.set_ligand_from_string(lig_string)\n",
    "maps_center=[15.190, 53.903, 16.917]\n",
    "maps_size_angstroms=[20, 20, 20]\n",
    "v.compute_vina_maps(center=maps_center, box_size=maps_size_angstroms)\n",
    "\n",
    "# ---------\n",
    "\n",
    "print_ligand_center(mkprep.setup)\n",
    "translate_ligand(mkprep, maps_center)\n",
    "print_ligand_center(mkprep.setup)\n",
    "\n",
    "lig_string = mkprep.write_pdbqt_string()\n",
    "v.set_ligand_from_string(lig_string)\n",
    "\n",
    "score = v.score()\n",
    "print(\"score:\", score)\n"
   ]
  },
  {
   "cell_type": "code",
   "execution_count": 16,
   "id": "dd095568-3616-4cf7-949c-874210f5c095",
   "metadata": {},
   "outputs": [
    {
     "name": "stdout",
     "output_type": "stream",
     "text": [
      "Computing Vina grid ... done.\n",
      "ligand center:    0.835   -0.234   -0.190\n",
      "ligand center:   16.025   53.669   16.727\n",
      "score: [ 2.00142e+02  2.82044e+02  0.00000e+00  0.00000e+00  0.00000e+00\n",
      " -4.10000e-02 -8.19020e+01 -4.10000e-02]\n"
     ]
    }
   ],
   "source": [
    "!python3 test_script_02.py"
   ]
  },
  {
   "cell_type": "code",
   "execution_count": 7,
   "id": "581e4bd6-0b0d-48c0-b38c-b850b78d2989",
   "metadata": {},
   "outputs": [
    {
     "data": {
      "text/plain": [
       "{'rigid_receptor': '1iep_receptor.pdbqt',\n",
       " 'flex_receptor': None,\n",
       " 'ligands': ['1iep_ligand.pdbqt'],\n",
       " 'scoring_function': 'vina',\n",
       " 'weights': (-0.035579,\n",
       "  -0.005156,\n",
       "  0.840245,\n",
       "  -0.035069,\n",
       "  -0.587439,\n",
       "  50,\n",
       "  0.05846),\n",
       " 'no_refine': False,\n",
       " 'box_center': [15.19, 53.903, 16.917],\n",
       " 'box_size': [20, 20, 20],\n",
       " 'box_spacing': 0.375,\n",
       " 'box_even_elements': True,\n",
       " 'seed': 1}"
      ]
     },
     "execution_count": 7,
     "metadata": {},
     "output_type": "execute_result"
    }
   ],
   "source": [
    "v.info()"
   ]
  },
  {
   "cell_type": "code",
   "execution_count": 10,
   "id": "8fbef687-44e0-4734-a5cd-45d47815c7d8",
   "metadata": {},
   "outputs": [
    {
     "name": "stdout",
     "output_type": "stream",
     "text": [
      "Score after minimization : -13.206 (kcal/mol)\n",
      "Performing local search ... done.\n"
     ]
    }
   ],
   "source": [
    "# Minimized locally the current pose\n",
    "energy_minimized = v.optimize()\n",
    "print('Score after minimization : %.3f (kcal/mol)' % energy_minimized[0])\n",
    "v.write_pose('1iep_ligand_minimized.pdbqt', overwrite=True)"
   ]
  },
  {
   "cell_type": "code",
   "execution_count": 11,
   "id": "f185c1ac-9d10-4f43-a8cc-6ffc370c3f36",
   "metadata": {},
   "outputs": [
    {
     "name": "stdout",
     "output_type": "stream",
     "text": [
      "Performing docking (random seed: 1) ... \n",
      "0%   10   20   30   40   50   60   70   80   90   100%\n",
      "|----|----|----|----|----|----|----|----|----|----|\n",
      "***************************************************\n"
     ]
    }
   ],
   "source": [
    "# # Dock the ligand\n",
    "v.dock(exhaustiveness=32, n_poses=20)\n",
    "v.write_poses('1iep_ligand_vina_out.pdbqt', n_poses=5, overwrite=True)"
   ]
  },
  {
   "cell_type": "code",
   "execution_count": null,
   "id": "c370d759-e1e7-465b-ad67-2a6c7d0ef332",
   "metadata": {},
   "outputs": [],
   "source": []
  }
 ],
 "metadata": {
  "kernelspec": {
   "display_name": "Python 3 (ipykernel)",
   "language": "python",
   "name": "python3"
  },
  "language_info": {
   "codemirror_mode": {
    "name": "ipython",
    "version": 3
   },
   "file_extension": ".py",
   "mimetype": "text/x-python",
   "name": "python",
   "nbconvert_exporter": "python",
   "pygments_lexer": "ipython3",
   "version": "3.7.12"
  }
 },
 "nbformat": 4,
 "nbformat_minor": 5
}
