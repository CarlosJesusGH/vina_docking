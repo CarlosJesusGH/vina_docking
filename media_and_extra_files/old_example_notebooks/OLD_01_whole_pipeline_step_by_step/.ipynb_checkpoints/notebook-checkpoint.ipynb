{
 "cells": [
  {
   "cell_type": "markdown",
   "id": "7af2848b-a26e-4c2d-8eda-c5f386ad000e",
   "metadata": {
    "jp-MarkdownHeadingCollapsed": true,
    "tags": []
   },
   "source": [
    "# **prepare current working directory (cwd)**"
   ]
  },
  {
   "cell_type": "code",
   "execution_count": null,
   "id": "6c1e0a1e-01c2-4774-ae5f-1ef125ebe728",
   "metadata": {
    "scrolled": true
   },
   "outputs": [],
   "source": [
    "%%bash\n",
    "# remove everything except this notebook\n",
    "shopt -s extglob\n",
    "rm -rf !(\"notebook.ipynb\") \n",
    "# to test any error in the terminal, use:\n",
    "# ipython3 -c \"%run notebook.ipynb\""
   ]
  },
  {
   "cell_type": "code",
   "execution_count": null,
   "id": "ebd1a945-627a-4533-b891-cb28f80744a9",
   "metadata": {
    "scrolled": true
   },
   "outputs": [],
   "source": [
    "# import tools\n",
    "import sys, os; sys.path.append(os.path.realpath(os.path.join(os.getcwd(), \"../../\")))\n",
    "from tools import *\n",
    "# while updating modules\n",
    "# import importlib; importlib.reload(visualize_molecules)\n",
    "# import importlib; importlib.reload(utils)\n",
    "\n",
    "import ipywidgets\n",
    "import glob\n",
    "import ast\n",
    "from tqdm import tqdm\n",
    "import pandas as pd\n",
    "\n",
    "import rdkit\n",
    "from rdkit import Chem\n",
    "import meeko\n",
    "from meeko import MoleculePreparation\n",
    "from meeko import PDBQTMolecule\n",
    "from meeko import RDKitMolCreate\n",
    "from pymol import cmd\n",
    "from vina import Vina\n",
    "\n",
    "import shutil\n",
    "from pdbfixer import PDBFixer\n",
    "from openmm.app import PDBFile\n",
    "\n",
    "# Global variables\n",
    "dirs_dict = {'raw_ligands':'./raw_ligands/', 'prepared_ligands':'./prepared_ligands/', \n",
    "             'raw_receptors':'./raw_receptors/', 'prepared_receptors':'./prepared_receptors/', \n",
    "             'vina_scoring':'./vina_scoring/', 'vina_docking':'./vina_docking/'}\n",
    "vina_seed = 1"
   ]
  },
  {
   "cell_type": "code",
   "execution_count": null,
   "id": "dab2a87b-9553-430c-87c2-4e1ee5cf38d1",
   "metadata": {
    "scrolled": true
   },
   "outputs": [],
   "source": [
    "# create empty directories\n",
    "directory_scraping.prepare_directory_from_dict(dirs_dict)"
   ]
  },
  {
   "cell_type": "code",
   "execution_count": null,
   "id": "01baa918-1105-4287-a733-32737be44a24",
   "metadata": {
    "scrolled": true
   },
   "outputs": [],
   "source": [
    "# list directory before execution\n",
    "!tree ."
   ]
  },
  {
   "cell_type": "markdown",
   "id": "410d9df6-971c-4e80-854e-a7212f7a64c6",
   "metadata": {
    "jp-MarkdownHeadingCollapsed": true,
    "tags": []
   },
   "source": [
    "# **build and prepare ligands**"
   ]
  },
  {
   "cell_type": "markdown",
   "id": "52d81e7d-66ea-463d-bfe9-9b6d5b5492d9",
   "metadata": {},
   "source": [
    "for comments and more info about this section, take a look at notebook in directory 'example_notebooks/example04 - prepare ligands'"
   ]
  },
  {
   "cell_type": "code",
   "execution_count": null,
   "id": "4892cdf1-3aaa-480c-8cb5-64e74f53daca",
   "metadata": {
    "scrolled": true
   },
   "outputs": [],
   "source": [
    "%%file {dirs_dict['raw_ligands']}list_ligands.txt\n",
    "O=Cc1ccc(O)c(OC)c1\n",
    "COc1cc(C=O)ccc1O\n",
    "CC(=O)NCCC1=CNc2c1cc(OC)cc2\n",
    "CC(=O)NCCc1c[nH]c2ccc(OC)cc12"
   ]
  },
  {
   "cell_type": "code",
   "execution_count": null,
   "id": "d855c9ec-ebc2-446f-bc4a-303c33a326cb",
   "metadata": {
    "scrolled": true
   },
   "outputs": [],
   "source": [
    "# create dataframe to register the optimal box size for each ligand\n",
    "ligands_opt_box_size = pd.DataFrame(columns=['ligand_name', 'optimal_box_size', 'euclid_dist_origin', 'ligand_center'])\n",
    "\n",
    "with open(dirs_dict['raw_ligands']+'list_ligands.txt') as f:\n",
    "    ligand_smis = f.readlines()\n",
    "\n",
    "# clear output directory\n",
    "directory_scraping.mkdir_or_clear(dirs_dict['prepared_ligands'])\n",
    "\n",
    "# print number of smiles in file\n",
    "print(\"len(ligand_smis)\", len(ligand_smis))\n",
    "    \n",
    "error_ligand_smis = []\n",
    "for idx, ligand_smi in enumerate(tqdm(ligand_smis), start=1):\n",
    "    # print(\"ligand_smi\", ligand_smi)\n",
    "    try:\n",
    "        ligand_name = 'ligand_' + f'{idx:03}'\n",
    "        ligand_smi = ligand_smi.strip()\n",
    "        # print(ligand_name, ligand_smi)\n",
    "        # load our ligand from SMILES into RDKit\n",
    "        lig = rdkit.Chem.MolFromSmiles(ligand_smi)\n",
    "        # add hydrogens (without regard to pH) \n",
    "        protonated_lig = rdkit.Chem.AddHs(lig)\n",
    "        # generate 3D coordinates for the ligand\n",
    "        rdkit.Chem.AllChem.EmbedMolecule(protonated_lig)\n",
    "        # convert to a PDBQT string using the MoleculePreparation class from Meeko.\n",
    "        meeko_prep = meeko.MoleculePreparation()\n",
    "        meeko_prep.prepare(protonated_lig)\n",
    "        lig_pdbqt = meeko_prep.write_pdbqt_string()\n",
    "        # At this point, pdbqt_string can be written to a file for docking with AutoDock-GPU or Vina, or passed directly to Vina within Python using set_ligand_from_string(pdbqt_string)\n",
    "        out_file_path = dirs_dict['prepared_ligands'] + ligand_name + '.pdbqt'\n",
    "        with open(out_file_path, \"w\") as text_file:\n",
    "            text_file.write(lig_pdbqt)\n",
    "        # compute optimal box size using https://www.ncbi.nlm.nih.gov/pmc/articles/PMC4468813/\n",
    "        optimal_box_size = ligand_preparation.get_optimal_box_size_for_ligand(out_file_path)\n",
    "        # print(\"optimal_box_size\", optimal_box_size)\n",
    "        # compute ligand center to make sure it is close to the origin\n",
    "        ligand_center, euclid_dist_origin = ligand_preparation.get_ligand_center(meeko_prep)\n",
    "        # update dataframe\n",
    "        ligands_opt_box_size = ligands_opt_box_size.append({'ligand_name':ligand_name, 'optimal_box_size':optimal_box_size, 'ligand_center':ligand_center, 'euclid_dist_origin':euclid_dist_origin}, ignore_index=True)\n",
    "    except Exception as e:\n",
    "        # print(\"An exception occurred with smi:\\n\", ligand_smi)\n",
    "        # print(\"exception\", e)\n",
    "        error_ligand_smis.append(ligand_smi)\n",
    "        \n",
    "# save dataframe to csv file\n",
    "ligands_opt_box_size.to_csv(dirs_dict['prepared_ligands']+'ligands_opt_box_size.csv', sep='\\t', index=False)\n",
    "# print dataframe\n",
    "ligands_opt_box_size"
   ]
  },
  {
   "cell_type": "code",
   "execution_count": null,
   "id": "73a41163",
   "metadata": {},
   "outputs": [],
   "source": [
    "# print all problematic smiles\n",
    "for lig in error_ligand_smis:\n",
    "    print(lig)"
   ]
  },
  {
   "cell_type": "markdown",
   "id": "e659f0c9-cef3-4b34-9df9-862703d383f7",
   "metadata": {
    "jp-MarkdownHeadingCollapsed": true,
    "tags": []
   },
   "source": [
    "# **download and prepare receptors with pockets**"
   ]
  },
  {
   "cell_type": "markdown",
   "id": "1bc398c9-4ff9-4686-94f8-f8315027d11b",
   "metadata": {
    "tags": []
   },
   "source": [
    "## batch download receptors"
   ]
  },
  {
   "cell_type": "markdown",
   "id": "00f74eba-13c3-4b01-887a-b83f5211c783",
   "metadata": {},
   "source": [
    "for comments and more info about this section, take a look at notebook in directory 'example02 - download raw molecules'"
   ]
  },
  {
   "cell_type": "code",
   "execution_count": null,
   "id": "6466e82e-712d-48af-97ca-70190eb612a7",
   "metadata": {
    "scrolled": true
   },
   "outputs": [],
   "source": [
    "%%file {dirs_dict['raw_receptors']}list_receptors.txt\n",
    "3P0V, 3GKW, 5GTY"
   ]
  },
  {
   "cell_type": "code",
   "execution_count": null,
   "id": "ef3e5ac9-5526-45c0-b8a9-e00408c35f52",
   "metadata": {
    "scrolled": true
   },
   "outputs": [],
   "source": [
    "output = receptor_preparation.batch_download_receptors(dirs_dict['raw_receptors']+'list_receptors.txt', dirs_dict['raw_receptors'])\n",
    "print(output)\n",
    "%ls {dirs_dict['raw_receptors']} -l"
   ]
  },
  {
   "cell_type": "markdown",
   "id": "09091f76-3509-4baa-a143-9a6e27212f87",
   "metadata": {
    "tags": []
   },
   "source": [
    "## clean receptors and convert them to pdbqt"
   ]
  },
  {
   "cell_type": "markdown",
   "id": "653a6c49-146c-4f24-b8a9-8497e3777d5a",
   "metadata": {},
   "source": [
    "for comments and more info about this section, take a look at notebook in directory 'example03 - prepare receptors'"
   ]
  },
  {
   "cell_type": "code",
   "execution_count": null,
   "id": "ed4aa0af-b5dc-4d7d-8c3c-9451804dff5b",
   "metadata": {
    "scrolled": true
   },
   "outputs": [],
   "source": [
    "pdg_gz_files,_= directory_scraping.list_files_in_dir(directory=dirs_dict['raw_receptors'], search_pattern='*.pdb.gz')\n",
    "# extract/decompress gz files\n",
    "for pdg_gz_file in tqdm(pdg_gz_files):\n",
    "    # print(pdg_gz_file)\n",
    "    !gzip -d $pdg_gz_file\n",
    "%ls {dirs_dict['raw_receptors']} -l"
   ]
  },
  {
   "cell_type": "code",
   "execution_count": null,
   "id": "1a797aa4-d2b5-4866-b3e9-364a8d641b26",
   "metadata": {
    "scrolled": true
   },
   "outputs": [],
   "source": [
    "receptor_paths, receptor_names = directory_scraping.list_files_in_dir(directory=dirs_dict['raw_receptors'], search_pattern='*.pdb*')\n",
    "\n",
    "errors_and_warnings = []\n",
    "for i,receptor_path in enumerate(tqdm(receptor_paths)):\n",
    "    # print(\"\\n\", \"-\"*50, \"\\n\\n\", receptor_path, \"\\n\")\n",
    "    receptor_name = receptor_names[i];\n",
    "    # check if output pdbqt file already exists\n",
    "    if os.path.exists(dirs_dict['prepared_receptors'] + receptor_name + \".pdbqt\"):\n",
    "        continue\n",
    "    # Summarizes the contents of a PDB file, like the wc command in UNIX.\n",
    "    # !pdb_wc $receptor_path\n",
    "    # -------------------------------------------------------------------------------\n",
    "    # step01: remove extra chains if more than one\n",
    "    fixer = PDBFixer(filename=receptor_path)\n",
    "    numChains = len(list(fixer.topology.chains()))\n",
    "    if numChains > 1:\n",
    "        step01_out = dirs_dict['prepared_receptors'] + receptor_name + \"_step01.pdb\"\n",
    "        # !pdb_selchain -A {receptor_path} > {step01_out}\n",
    "        fixer.removeChains(range(1, numChains))\n",
    "        PDBFile.writeFile(fixer.topology, fixer.positions, open(step01_out, 'w'))\n",
    "        errors_and_warnings.append((\"warning\", \"n_chains=\" + str(numChains), receptor_name))\n",
    "    else:\n",
    "        step01_out = receptor_path\n",
    "    # continue if last step didn't work\n",
    "    if not os.path.exists(step01_out):\n",
    "        errors_and_warnings.append((\"error\", \"performing step_01\", receptor_name))\n",
    "        continue\n",
    "    # -------------------------------------------------------------------------------\n",
    "    # step02: remove water molecules\n",
    "    # [-U]  cleanup type:\n",
    "    #              'nphs': merge charges and remove non-polar hydrogens\n",
    "    #              'lps': merge charges and remove lone pairs\n",
    "    #              'waters': remove water residues\n",
    "    #              'nonstdres': remove chains composed entirely of residues of\n",
    "    #                       types other than the standard 20 amino acids\n",
    "    #              'deleteAltB': remove XX@B atoms and rename XX@A atoms->XX\n",
    "    #              (default is 'nphs_lps_waters_nonstdres')\n",
    "    step02_out = dirs_dict['prepared_receptors'] + receptor_name + \"_step02.pdbqt\"\n",
    "    !prepare_receptor -r {step01_out} -o {step02_out} -U 'waters'\n",
    "    # continue if last step didn't work\n",
    "    if not os.path.exists(step02_out):\n",
    "        errors_and_warnings.append((\"error\", \"performing step_02\", receptor_name))\n",
    "        continue\n",
    "    # -------------------------------------------------------------------------------\n",
    "    # [-e]  delete every nonstd residue from any chain\n",
    "    #               'True': any residue whose name is not in this list:\n",
    "    #                       ['CYS','ILE','SER','VAL','GLN','LYS','ASN', \n",
    "    #                       'PRO','THR','PHE','ALA','HIS','GLY','ASP', \n",
    "    #                       'LEU', 'ARG', 'TRP', 'GLU', 'TYR','MET', \n",
    "    #                       'HID', 'HSP', 'HIE', 'HIP', 'CYX', 'CSS']\n",
    "    #               will be deleted from any chain. \n",
    "    #               NB: there are no  nucleic acid residue names at all \n",
    "    #               in the list and no metals. \n",
    "    #              (default is False which means not to do this)\n",
    "    step03_out = dirs_dict['prepared_receptors'] + receptor_name + \"_step03.pdbqt\"\n",
    "    !prepare_receptor -r {step02_out} -o {step03_out} -e\n",
    "    # continue if last step didn't work\n",
    "    if not os.path.exists(step03_out):\n",
    "        errors_and_warnings.append((\"error\", \"performing step_03\", receptor_name))\n",
    "        continue\n",
    "    # -------------------------------------------------------------------------------\n",
    "    # [-A]  type(s) of repairs to make: \n",
    "    #              'bonds_hydrogens': build bonds and add hydrogens \n",
    "    #              'bonds': build a single bond from each atom with no bonds to its closest neighbor\n",
    "    #              'hydrogens': add hydrogens\n",
    "    #              'checkhydrogens': add hydrogens only if there are none already\n",
    "    #              'None': do not make any repairs \n",
    "    #              (default is 'None')\n",
    "    step04_out = dirs_dict['prepared_receptors'] + receptor_name + \"_step04.pdbqt\"\n",
    "    !prepare_receptor -r {step03_out} -o {step04_out} -A 'hydrogens'\n",
    "    # continue if last step didn't work\n",
    "    if not os.path.exists(step04_out):\n",
    "        errors_and_warnings.append((\"error\", \"performing step_04\", receptor_name))\n",
    "        continue\n",
    "    # -------------------------------------------------------------------------------\n",
    "    # change name to last step and remove all middle-stage files\n",
    "    !mv {step04_out} {dirs_dict['prepared_receptors']}{receptor_name}\".pdbqt\"\n",
    "    !rm {dirs_dict['prepared_receptors']}*_step*\n",
    "    # -------------------------------------------------------------------------------\n",
    "# print and count files in output dir\n",
    "%ls {dirs_dict['prepared_receptors']} -l\n",
    "!ls -1q {dirs_dict['prepared_receptors']} | wc -l"
   ]
  },
  {
   "cell_type": "code",
   "execution_count": null,
   "id": "911ecc95-5fdd-4834-ad8a-8758b1751302",
   "metadata": {},
   "outputs": [],
   "source": [
    "errors_and_warnings\n",
    "# print only different\n",
    "# set([x[1] for x in errors_and_warnings])"
   ]
  },
  {
   "cell_type": "markdown",
   "id": "3d5770be-a43f-444b-9718-e322d4ec0dbf",
   "metadata": {
    "jp-MarkdownHeadingCollapsed": true,
    "tags": []
   },
   "source": [
    "## find pockets in receptors"
   ]
  },
  {
   "cell_type": "markdown",
   "id": "5b7d9b55-e25a-46c2-b346-f84ff7814a11",
   "metadata": {},
   "source": [
    "for comments and more info about this section, take a look at notebook in directory 'example07 - find pockets in prepared_receptors'"
   ]
  },
  {
   "cell_type": "code",
   "execution_count": null,
   "id": "bb2b58d4-de23-4406-9423-44413af908bd",
   "metadata": {
    "scrolled": true
   },
   "outputs": [],
   "source": [
    "# List prepared_receptors\n",
    "receptor_paths, receptor_names = directory_scraping.list_files_in_dir(directory=dirs_dict['prepared_receptors'], search_pattern='*.pdb*')"
   ]
  },
  {
   "cell_type": "code",
   "execution_count": null,
   "id": "28629eb5-4cd4-4dd5-8f74-148c50c61fcc",
   "metadata": {
    "scrolled": true,
    "tags": []
   },
   "outputs": [],
   "source": [
    "# Execute fpocket for each receptor\n",
    "for i,receptor_path in enumerate(tqdm(receptor_paths)):\n",
    "    # print(\"\\n\", \"-\"*50, \"\\n\\n\", receptor_path, \"\\n\")\n",
    "    receptor_name = receptor_names[i]; #print(receptor_name)\n",
    "    # -------------------------------------------------------------------------------\n",
    "    # step01: compute pockets for each receptor\n",
    "    !fpocket -f {receptor_path} -d > 'prepared_receptors/fp_'{receptor_name}'.csv'\n",
    "    # print(\"fpocket finished running\")\n",
    "print(\"\\n\", \"-\"*50, \"\\n\")\n",
    "%ls {dirs_dict['prepared_receptors']} -l"
   ]
  },
  {
   "cell_type": "code",
   "execution_count": null,
   "id": "10e1dd67-746c-4b33-a274-279531af4004",
   "metadata": {
    "scrolled": true,
    "tags": []
   },
   "outputs": [],
   "source": [
    "# Summarize fpocket data into tables\n",
    "list_pockets_data = []\n",
    "for i,receptor_path in enumerate(tqdm(receptor_paths)):\n",
    "    # print(\"\\n\", \"-\"*50, \"\\n\\n\", receptor_path, \"\\n\")\n",
    "    receptor_name = receptor_names[i];\n",
    "    pocket_paths = sorted(glob.glob(dirs_dict['prepared_receptors'] + receptor_name + '_out/*.pqr'))\n",
    "    # pockets_data = pd.read_csv(dirs_dict['prepared_receptors']+'fp_' + receptor_name + '.csv',sep=' ',index_col=[0])\n",
    "    pockets_data = pd.read_csv(dirs_dict['prepared_receptors']+'fp_' + receptor_name + '.csv',sep=' ',index_col=False).set_index('cav_id')\n",
    "    for cav_id, pocket_path in enumerate(pocket_paths, start=1):    \n",
    "        drug_score = pockets_data[\"drug_score\"].loc[cav_id]\n",
    "        # compute the box center and size out from the pocket\n",
    "        pocket_num = cav_id\n",
    "        cmd.load(filename=pocket_path,format='pqr',object=pocket_num)\n",
    "        center,size = utils.getbox(selection=pocket_num,extending=0,software='vina')\n",
    "        center = [center['center_x'], center['center_y'], center['center_z']]\n",
    "        size = [size['size_x'], size['size_y'], size['size_z']]\n",
    "        size_max = max(size)\n",
    "        pockets_data.loc[pocket_num,'receptor_name'] = receptor_name\n",
    "        pockets_data.loc[pocket_num,'center'] = str(center)\n",
    "        pockets_data.loc[pocket_num,'size'] = str(size)\n",
    "        pockets_data.loc[pocket_num,'size_max'] = size_max\n",
    "    # update pockets data list index. add 'drug_id' to the beginning of each number\n",
    "    pockets_data.index = pockets_data.index.map(str)\n",
    "    pockets_data.index = receptor_name + '_' + pockets_data.index\n",
    "    # append it to list of dataframes\n",
    "    list_pockets_data.append(pockets_data)\n",
    "\n",
    "# Merge pockets data and sort it by the drugability score\n",
    "merged_pockets_data = pd.concat(list_pockets_data).sort_values(by=['drug_score'], ascending=False)\n",
    "# Save merged data to csv file\n",
    "merged_pockets_data.to_csv(dirs_dict['prepared_receptors']+'merged_pockets_data.csv', sep='\\t')\n",
    "# Re-read file to make sure everything is fine\n",
    "# merged_pockets_data = pd.read_csv(dirs_dict['prepared_receptors']+'merged_pockets_data.csv',sep='\\t')"
   ]
  },
  {
   "cell_type": "code",
   "execution_count": null,
   "id": "291c26e3-4dcd-411b-afb7-6e2054b07cd2",
   "metadata": {
    "scrolled": true,
    "tags": []
   },
   "outputs": [],
   "source": [
    "# Inspect pockets_data to decide on which pockets will be used from here onwards\n",
    "merged_pockets_data = pd.read_csv(dirs_dict['prepared_receptors']+'merged_pockets_data.csv',sep='\\t')\n",
    "columns_to_keep = ['cav_id', 'drug_score', 'receptor_name', 'center', 'size', 'size_max', \n",
    "                   # 'volume', 'hydrophobicity_score', 'volume_score', 'charge_score','polarity_score', \n",
    "                  ]\n",
    "merged_pockets_data = merged_pockets_data[columns_to_keep]\n",
    "with pd.option_context('display.max_rows', None, 'display.max_columns', None):\n",
    "    display(merged_pockets_data)"
   ]
  },
  {
   "cell_type": "markdown",
   "id": "2ca638e9-9540-4e6a-9d03-b48b8b4bc483",
   "metadata": {
    "jp-MarkdownHeadingCollapsed": true,
    "tags": []
   },
   "source": [
    "# **vina-score all ligands into filtered-pockets**"
   ]
  },
  {
   "cell_type": "markdown",
   "id": "c0dfa048-1ecb-4bb1-a81f-356d84a8008e",
   "metadata": {},
   "source": [
    "for comments and more info about this section, take a look at notebooks in directories 'example08 - score all ligand per protein pockets' and 'example05 - locate ligand inside the box'"
   ]
  },
  {
   "cell_type": "code",
   "execution_count": null,
   "id": "06f1b755-17e8-4629-93d5-ed59e281cef4",
   "metadata": {},
   "outputs": [],
   "source": [
    "merged_pockets_data = pd.read_csv(dirs_dict['prepared_receptors']+'merged_pockets_data.csv',sep='\\t')\n",
    "columns_to_keep = ['cav_id', 'drug_score', 'receptor_name', 'center', 'size', 'size_max', \n",
    "                   # 'volume', 'hydrophobicity_score', 'volume_score', 'charge_score','polarity_score', \n",
    "                  ]\n",
    "merged_pockets_data = merged_pockets_data[columns_to_keep]"
   ]
  },
  {
   "cell_type": "code",
   "execution_count": null,
   "id": "ccc698c5-8b21-494a-b2e3-a56b5d9ea956",
   "metadata": {},
   "outputs": [],
   "source": [
    "# when creating the box around the pocket, extend it by a few angstroms on each dimension\n",
    "box_extra_angstroms = 1\n",
    "\n",
    "# List prepared molecules\n",
    "receptor_paths, receptor_names = directory_scraping.list_files_in_dir(directory=dirs_dict['prepared_receptors'], search_pattern='*.pdb*')\n",
    "ligand_paths, ligand_names = directory_scraping.list_files_in_dir(directory=dirs_dict['prepared_ligands'], search_pattern='*.pdb*')\n",
    "\n",
    "# load ligands_opt_box_size from csv file\n",
    "ligands_opt_box_size = pd.read_csv(dirs_dict['prepared_ligands']+'ligands_opt_box_size.csv',sep='\\t')\n",
    "ligands_opt_box_size"
   ]
  },
  {
   "cell_type": "code",
   "execution_count": null,
   "id": "a7667d5d-9141-45c9-b6eb-2ec10dd06030",
   "metadata": {
    "scrolled": true,
    "tags": []
   },
   "outputs": [],
   "source": [
    "# IMPORTANT: CHANGE THIS CELL AS YOU PREFER\n",
    "# filter the pockets according to your needs\n",
    "drug_score_min = 0.5\n",
    "max_num_pockets = 20\n",
    "\n",
    "pockets_data = merged_pockets_data[merged_pockets_data['drug_score'] >= drug_score_min] \\\n",
    "                        .sort_values(by='drug_score', ascending=False) \\\n",
    "                        [0:max_num_pockets]\n",
    "pockets_data"
   ]
  },
  {
   "cell_type": "code",
   "execution_count": null,
   "id": "ff5b123b-98dc-4880-acd8-61856dbb041a",
   "metadata": {
    "scrolled": true,
    "tags": []
   },
   "outputs": [],
   "source": [
    "# %%time\n",
    "# %%capture --no-stdout\n",
    "\n",
    "# Create new dataframe to save vina scores\n",
    "vina_scores = pd.DataFrame(columns=['receptor_name', 'pocket_id', 'ligand_name', 'pocket_box_center', 'vina_box_size', 'vina_score_before_min', 'vina_score_after_min', 'output_path'])\n",
    "\n",
    "# Iterate over receptors\n",
    "for receptor_idx,receptor_path in enumerate(tqdm(receptor_paths)):\n",
    "    # print(\"\\n\\n\"+\"-\"*50, \"RECEPTOR {} out of {}\".format(i+1, len(receptor_paths)), receptor_path, sep='\\n')\n",
    "    receptor_name = receptor_names[receptor_idx];\n",
    "    # Iterate over the pockets available for the current receptor\n",
    "    for pocket_idx, pocket_row in tqdm(pockets_data[pockets_data['receptor_name'] == receptor_name].sort_values(by='drug_score', ascending=False).iterrows()):\n",
    "        pocket_cav_id = pocket_row['cav_id']\n",
    "        # print('Pocket number: ', pocket_id)\n",
    "        # print('drug_score: ', pocket_row['drug_score'])\n",
    "        pocket_box_center = ast.literal_eval(pocket_row['center'])\n",
    "        # print(\"pocket_box_center:\", pocket_box_center)\n",
    "        pocket_box_size = pocket_row['size_max']\n",
    "        errors = []\n",
    "        # Iterate over ligands\n",
    "        for ligand_idx,ligand_path in enumerate(tqdm(ligand_paths)):\n",
    "            try:\n",
    "                # print(\"\\n\\t\"+\"-\"*50, \"\\tLIGAND {} out of {}\".format(j+1, len(ligand_paths)),\"\\t\" + ligand_path + \"\\n\", sep='\\n')\n",
    "                ligand_name = ligand_names[ligand_idx];\n",
    "                # Choose a box size for vina taking into consideration the size of the pocket and the size of the ligand\n",
    "                ligand_box_size = ligands_opt_box_size.loc[ligands_opt_box_size['ligand_name'] == ligand_name].iloc[0]['optimal_box_size']\n",
    "                # print(\"pocket_box_size:\", pocket_box_size, \"ligand_box_size\", ligand_box_size)\n",
    "                # print(\"pocket_box_size:\", type(pocket_box_size), \"ligand_box_size\", type(ligand_box_size))\n",
    "                vina_box_size = [max(pocket_box_size, ligand_box_size) + box_extra_angstroms] * 3\n",
    "                # print(\"vina_box_size\", vina_box_size)\n",
    "                # Load ligand and move it to the center of the box\n",
    "                lig_pdbqt_string = ligand_preparation.translate_ligand_from_pdbqt(pdbqt_path=ligand_path, new_center=pocket_box_center, verbose=False)\n",
    "                # Prepare vina object\n",
    "                v = Vina(sf_name='vina', seed=vina_seed)  # default values: class vina.vina.Vina(sf_name='vina', cpu=0, seed=0, no_refine=False, verbosity=1)\n",
    "                v.set_receptor(receptor_path)\n",
    "                v.set_ligand_from_string(lig_pdbqt_string)\n",
    "                v.compute_vina_maps(center=pocket_box_center, box_size=vina_box_size)\n",
    "                # Score the current pose\n",
    "                energy = v.score()\n",
    "                vina_score_before_min = energy[0]\n",
    "                # print('Score before minimization: %.3f (kcal/mol)' % vina_score_before_min)\n",
    "\n",
    "                # Minimized locally the current pose\n",
    "                energy_minimized = v.optimize()\n",
    "                vina_score_after_min = energy_minimized[0]\n",
    "                # print('Score after minimization : %.3f (kcal/mol)' % vina_score_after_min)\n",
    "                output_path = dirs_dict['vina_scoring'] + pocket_cav_id + '_' + ligand_name + '_minimized.pdbqt'\n",
    "                v.write_pose(output_path, overwrite=True)\n",
    "\n",
    "                # Save vina score in dataframe\n",
    "                vina_scores = vina_scores.append({'receptor_name': receptor_name, 'pocket_id': pocket_cav_id, 'ligand_name': ligand_name, \n",
    "                                                  'pocket_box_center': pocket_box_center, 'vina_box_size': vina_box_size, \n",
    "                                                  'vina_score_before_min': vina_score_before_min, 'vina_score_after_min': vina_score_after_min,\n",
    "                                                 'output_path': output_path}, ignore_index=True)\n",
    "            except Exception as e:\n",
    "                # print(\"An exception occurred\")\n",
    "                # print(\"exception\", e)\n",
    "                errors.append((receptor_name, pocket_cav_id, ligand_name))\n",
    "            # -----------------------------\n",
    "# Save vina_scoring data to csv file\n",
    "vina_scores = vina_scores.sort_values(by='vina_score_after_min', ascending=True)\n",
    "vina_scores.to_csv(dirs_dict['vina_scoring']+'vina_scores.csv', sep='\\t', index=False)\n",
    "# print(\"\\n\", \"-\"*50, \"\\n\")\n",
    "%ls {dirs_dict['vina_scoring']} -l"
   ]
  },
  {
   "cell_type": "code",
   "execution_count": null,
   "id": "add18b40",
   "metadata": {},
   "outputs": [],
   "source": [
    "# print info from all errors\n",
    "for error_info in errors:\n",
    "    print(error_info)"
   ]
  },
  {
   "cell_type": "code",
   "execution_count": null,
   "id": "97bf207f-1c75-4853-80f6-e783e75828af",
   "metadata": {
    "scrolled": true,
    "tags": []
   },
   "outputs": [],
   "source": [
    "# load data from file\n",
    "vina_scores = pd.read_csv(dirs_dict['vina_scoring']+'vina_scores.csv',sep='\\t')\n",
    "# Inspect vina_scoring data to decide on which dockings will be used from here onwards\n",
    "with pd.option_context('display.max_rows', None, 'display.max_columns', None):\n",
    "    display(vina_scores)"
   ]
  },
  {
   "cell_type": "markdown",
   "id": "f9f55799-9b8c-481b-85af-ebcdd37a18b5",
   "metadata": {
    "jp-MarkdownHeadingCollapsed": true,
    "tags": []
   },
   "source": [
    "# **vina-dock filtered-ligands into filtered-pockets**"
   ]
  },
  {
   "cell_type": "markdown",
   "id": "f4a436b3-1314-47c6-a158-052964fc0da4",
   "metadata": {},
   "source": [
    "for comments and more info about this section, take a look at notebook in directory 'example09 - multiple docking'"
   ]
  },
  {
   "cell_type": "code",
   "execution_count": null,
   "id": "2281081b-8dd0-4f61-8637-ec780ffcc0b0",
   "metadata": {
    "scrolled": true,
    "tags": []
   },
   "outputs": [],
   "source": [
    "# IMPORTANT: CHANGE THIS CELL AS YOU PREFER\n",
    "# filter the vina_scores according to your needs\n",
    "vina_score_max = -1\n",
    "max_num_dockings = 20\n",
    "\n",
    "vina_scores = pd.read_csv(dirs_dict['vina_scoring']+'vina_scores.csv',sep='\\t')\n",
    "vina_scores_filtered = vina_scores[vina_scores['vina_score_after_min'] <= vina_score_max] \\\n",
    "                        .sort_values(by='vina_score_after_min', ascending=True) \\\n",
    "                        [0:max_num_dockings]\n",
    "vina_scores_filtered"
   ]
  },
  {
   "cell_type": "markdown",
   "id": "995a7091-1d48-4ceb-b808-ab05484f9d98",
   "metadata": {},
   "source": [
    "<span style='background:lightblue'> **Important** </span>\n",
    "\n",
    "<span style='background:lightblue'>\n",
    "from the official website: https://autodock-vina.readthedocs.io/en/latest/docking_python.html\n",
    "</span>\n",
    "\n",
    "```python\n",
    "# Dock the ligand\n",
    "v.dock(exhaustiveness=32, n_poses=20)\n",
    "v.write_poses('1iep_ligand_vina_out.pdbqt', n_poses=5, overwrite=True)\n",
    "```\n",
    "\n",
    "<span style='background:lightblue'>\n",
    "Finally, we run the molecular docking. Here we will ask Vina to run 32 consecutive Monte-Carlo samplings using the `exhaustiveness` argument and store 20 poses (n_poses) during the search. At the end, we will write a PDBQT file called `1iep_ligand_vina_out.pdbqt` containing only the 5 first poses (`n_poses`), ranked by score. Of course, this can be change to 20 to include all the poses that were saved during the calculations, at the condition that the energy difference between the best pose and the 20th pose if less than 3 kcal/mol. This behavior can be changed using the `energy_range` argument to an higher value.\n",
    "</span>"
   ]
  },
  {
   "cell_type": "code",
   "execution_count": null,
   "id": "7edb5347-f9e8-4e07-bc19-4446ba3c939d",
   "metadata": {},
   "outputs": [],
   "source": [
    "vina_exhaustiveness=32    # default:32 \n",
    "vina_n_poses_to_dock=20   # default:20\n",
    "vina_n_poses_to_write=5  # default:5"
   ]
  },
  {
   "cell_type": "code",
   "execution_count": null,
   "id": "96503593-6533-4ab3-94a8-8d32e9471fd0",
   "metadata": {
    "scrolled": true,
    "tags": []
   },
   "outputs": [],
   "source": [
    "# Create new dataframe to save vina scores\n",
    "vina_dockings = pd.DataFrame(columns=['receptor_name', 'pocket_id', 'ligand_name', 'vina_docking_best', 'vina_docking_values', 'pocket_box_center', 'vina_box_size', 'output_path'])\n",
    "\n",
    "errors = []\n",
    "for scoring_row_idx, scoring_row in tqdm(vina_scores_filtered.iterrows()):\n",
    "# for scoring_row_idx, scoring_row in tqdm(vina_scores_filtered.iterrows()):\n",
    "    print(\"-\"*200)\n",
    "    try:\n",
    "        # print(\"scoring_row\", scoring_row)\n",
    "        receptor_name = scoring_row['receptor_name']\n",
    "        receptor_path = dirs_dict['prepared_receptors'] + receptor_name + '.pdbqt'\n",
    "        pocket_id = scoring_row['pocket_id']\n",
    "        pocket_box_center = ast.literal_eval(scoring_row['pocket_box_center'])\n",
    "        vina_box_size = ast.literal_eval(scoring_row['vina_box_size'])\n",
    "        ligand_name = scoring_row['ligand_name']\n",
    "        ligand_path = dirs_dict['prepared_ligands'] + ligand_name + '.pdbqt'\n",
    "        lig_pdbqt_string = ligand_preparation.translate_ligand_from_pdbqt(pdbqt_path=ligand_path, new_center=pocket_box_center, verbose=False)\n",
    "        # print(\"scoring_row_idx\", scoring_row_idx, \"pocket_id\", pocket_id, \"ligand_name\", ligand_name)\n",
    "        display(vina_scores_filtered.iloc[[scoring_row_idx]])\n",
    "\n",
    "        # Prepare vina object\n",
    "        v = Vina(sf_name='vina', seed=vina_seed)  # default values: class vina.vina.Vina(sf_name='vina', cpu=0, seed=0, no_refine=False, verbosity=1)\n",
    "        v.set_receptor(receptor_path)\n",
    "        v.set_ligand_from_string(lig_pdbqt_string)\n",
    "        v.compute_vina_maps(center=pocket_box_center, box_size=vina_box_size)\n",
    "\n",
    "        # Score the current pose\n",
    "        energy = v.score()\n",
    "        vina_score_before_min = energy[0]\n",
    "        print('Score before minimization: %.3f (kcal/mol)' % vina_score_before_min)\n",
    "\n",
    "        # Minimized locally the current pose\n",
    "        energy_minimized = v.optimize()\n",
    "        vina_score_after_min = energy_minimized[0]\n",
    "        print('Score after minimization : %.3f (kcal/mol)' % vina_score_after_min)\n",
    "        # v.write_pose(dirs_dict['vina_scoring'] + pocket_cav_id + '_' + ligand_name + '_minimized.pdbqt', overwrite=True)\n",
    "\n",
    "        # Dock the ligand\n",
    "        v.dock(exhaustiveness=vina_exhaustiveness, n_poses=vina_n_poses_to_dock)\n",
    "        output_path = dirs_dict['vina_docking'] + pocket_id + '_' + ligand_name + '_vina_out.pdbqt'\n",
    "        v.write_poses(output_path, n_poses=vina_n_poses_to_write, overwrite=True)\n",
    "        print(\"docking finished\")\n",
    "\n",
    "        # Get docking values from output\n",
    "        vina_docking_values = utils.get_scores_from_pdbqt(output_path)\n",
    "\n",
    "        # Save vina score in dataframe\n",
    "        vina_dockings = vina_dockings.append({'receptor_name': receptor_name, 'pocket_id': pocket_id, 'ligand_name': ligand_name, \n",
    "                                              'vina_docking_best': min(vina_docking_values), 'vina_docking_values': vina_docking_values,\n",
    "                                              'pocket_box_center': pocket_box_center, 'vina_box_size': vina_box_size,\n",
    "                                              'output_path': output_path}, ignore_index=True)\n",
    "    except Exception as e:\n",
    "        # print(\"An exception occurred\")\n",
    "        # print(\"exception\", e)\n",
    "        errors.append((receptor_name, pocket_cav_id, ligand_name))\n",
    "\n",
    "# Save vina_scoring data to csv file\n",
    "vina_dockings = vina_dockings.sort_values(by='vina_docking_best', ascending=True)\n",
    "vina_dockings.to_csv(dirs_dict['vina_docking']+'vina_dockings.csv', sep='\\t', index=False)\n",
    "%ls {dirs_dict['vina_docking']} -l    "
   ]
  },
  {
   "cell_type": "code",
   "execution_count": null,
   "id": "60e06157",
   "metadata": {},
   "outputs": [],
   "source": [
    "# print info from all errors\n",
    "for error_info in errors:\n",
    "    print(error_info)"
   ]
  },
  {
   "cell_type": "code",
   "execution_count": null,
   "id": "3b1020fa-cdab-4357-992a-a7354a479d47",
   "metadata": {
    "scrolled": true,
    "tags": []
   },
   "outputs": [],
   "source": [
    "vina_dockings"
   ]
  },
  {
   "cell_type": "markdown",
   "id": "d1e1fcad-290f-4305-9b77-f673f15a9ae3",
   "metadata": {
    "tags": []
   },
   "source": [
    "## list directory after execution"
   ]
  },
  {
   "cell_type": "code",
   "execution_count": null,
   "id": "dde27693-0813-42e7-af9f-af9f6acd3c75",
   "metadata": {
    "scrolled": true
   },
   "outputs": [],
   "source": [
    "!tree ."
   ]
  }
 ],
 "metadata": {
  "kernelspec": {
   "display_name": "Python 3 (ipykernel)",
   "language": "python",
   "name": "python3"
  },
  "language_info": {
   "codemirror_mode": {
    "name": "ipython",
    "version": 3
   },
   "file_extension": ".py",
   "mimetype": "text/x-python",
   "name": "python",
   "nbconvert_exporter": "python",
   "pygments_lexer": "ipython3",
   "version": "3.7.12"
  },
  "vscode": {
   "interpreter": {
    "hash": "31f2aee4e71d21fbe5cf8b01ff0e069b9275f58929596ceb00d14d90e3e16cd6"
   }
  }
 },
 "nbformat": 4,
 "nbformat_minor": 5
}
