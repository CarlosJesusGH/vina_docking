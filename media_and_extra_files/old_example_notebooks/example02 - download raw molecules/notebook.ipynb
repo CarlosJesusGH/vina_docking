{
 "cells": [
  {
   "cell_type": "code",
   "execution_count": 1,
   "id": "7208fb7c-3f14-4de6-b35c-5845c7c199ef",
   "metadata": {},
   "outputs": [],
   "source": [
    "%%bash\n",
    "# remove everything except this notebook\n",
    "shopt -s extglob\n",
    "rm -rf !(\"notebook.ipynb\") "
   ]
  },
  {
   "cell_type": "code",
   "execution_count": 2,
   "id": "8f9151ea-683c-4406-b602-811f65aa7169",
   "metadata": {},
   "outputs": [
    {
     "name": "stdout",
     "output_type": "stream",
     "text": [
      "--2023-04-12 15:27:49--  https://www.rcsb.org/scripts/batch_download.sh\n",
      "Resolving www.rcsb.org (www.rcsb.org)... 128.6.159.248\n",
      "Connecting to www.rcsb.org (www.rcsb.org)|128.6.159.248|:443... connected.\n",
      "HTTP request sent, awaiting response... 200 OK\n",
      "Length: 2360 (2.3K) [application/x-sh]\n",
      "Saving to: ‘batch_download.sh’\n",
      "\n",
      "batch_download.sh   100%[===================>]   2.30K  --.-KB/s    in 0s      \n",
      "\n",
      "2023-04-12 15:27:49 (466 MB/s) - ‘batch_download.sh’ saved [2360/2360]\n",
      "\n"
     ]
    }
   ],
   "source": [
    "#from: https://www.rcsb.org/docs/programmatic-access/batch-downloads-with-shell-script\n",
    "!wget https://www.rcsb.org/scripts/batch_download.sh\n",
    "# make it executable\n",
    "!chmod +x batch_download.sh"
   ]
  },
  {
   "cell_type": "code",
   "execution_count": null,
   "id": "8931e3ce-4307-47af-8df0-25333d90a765",
   "metadata": {},
   "outputs": [],
   "source": [
    "# another list to try\n",
    "# 3P0V, 3GKW, 5GTY, 6JKG, 6JKH, 3IKA, 5Y9T, 7JXQ, 4LQM, 4LRM, 8A27, 8A2A, 8A2B, 8A2D, 1YY8, 5D41, 6DUK, 6WVZ, 7U98, 7U99, 7U9A, 7LGS, 5ZWJ, 4UV7, 5FED"
   ]
  },
  {
   "cell_type": "code",
   "execution_count": 3,
   "id": "dbbebc01-5ecf-477e-8945-ebcb13e08153",
   "metadata": {},
   "outputs": [
    {
     "name": "stdout",
     "output_type": "stream",
     "text": [
      "Writing list_file.txt\n"
     ]
    }
   ],
   "source": [
    "%%file list_file.txt\n",
    "3P0V, 3GKW, 5GTY"
   ]
  },
  {
   "cell_type": "code",
   "execution_count": 4,
   "id": "d6a986c7-cf43-47f0-a001-0feb8874a979",
   "metadata": {},
   "outputs": [
    {
     "name": "stdout",
     "output_type": "stream",
     "text": [
      "Downloading https://files.rcsb.org/download/3P0V.pdb.gz to raw_receptors/3P0V.pdb.gz\n",
      "Downloading https://files.rcsb.org/download/3GKW.pdb.gz to raw_receptors/3GKW.pdb.gz\n",
      "Downloading https://files.rcsb.org/download/5GTY.pdb.gz to raw_receptors/5GTY.pdb.gz\n"
     ]
    }
   ],
   "source": [
    "# delete old downloads\n",
    "!rm -rf raw_receptors\n",
    "!mkdir raw_receptors\n",
    "\n",
    " # -f <file>: the input file containing a comma-separated list of PDB ids\n",
    " # -o  <dir>: the output dir, default: current dir\n",
    " # -c       : download a cif.gz file for each PDB id\n",
    " # -p       : download a pdb.gz file for each PDB id (not available for large structures)\n",
    " # -a       : download a pdb1.gz file (1st bioassembly) for each PDB id (not available for large structures)\n",
    " # -x       : download a xml.gz file for each PDB id\n",
    " # -s       : download a sf.cif.gz file for each PDB id (diffraction only)\n",
    " # -m       : download a mr.gz file for each PDB id (NMR only)\n",
    " # -r       : download a mr.str.gz for each PDB id (NMR only\n",
    "\n",
    "# download the whole protein\n",
    "!./batch_download.sh -f list_file.txt -o raw_receptors -p\n",
    "# download only the 1st bioassembly for each PDB id\n",
    "# !./batch_download.sh -f list_file.txt -o raw_receptors -a"
   ]
  },
  {
   "cell_type": "code",
   "execution_count": 5,
   "id": "fe127fff-7be1-48ec-826b-a9f9a65eeac4",
   "metadata": {},
   "outputs": [
    {
     "data": {
      "text/plain": [
       "['raw_receptors/3GKW.pdb.gz',\n",
       " 'raw_receptors/3P0V.pdb.gz',\n",
       " 'raw_receptors/5GTY.pdb.gz']"
      ]
     },
     "execution_count": 5,
     "metadata": {},
     "output_type": "execute_result"
    }
   ],
   "source": [
    "# list files in directory\n",
    "import glob\n",
    "pdg_gz_files = sorted(glob.glob('raw_receptors/*'))\n",
    "pdg_gz_files"
   ]
  },
  {
   "cell_type": "code",
   "execution_count": 6,
   "id": "18a874d1-5d4c-40eb-a5af-86fc3adda258",
   "metadata": {},
   "outputs": [
    {
     "name": "stdout",
     "output_type": "stream",
     "text": [
      "raw_receptors/3GKW.pdb.gz\n",
      "raw_receptors/3P0V.pdb.gz\n",
      "raw_receptors/5GTY.pdb.gz\n"
     ]
    }
   ],
   "source": [
    "# extract/decompress gz files\n",
    "for pdg_gz_file in pdg_gz_files:\n",
    "    print(pdg_gz_file)\n",
    "    !gzip -d $pdg_gz_file"
   ]
  },
  {
   "cell_type": "code",
   "execution_count": 7,
   "id": "43bed1f6-6da1-4654-83b1-bb844afebf31",
   "metadata": {},
   "outputs": [
    {
     "name": "stdout",
     "output_type": "stream",
     "text": [
      "total 3068\n",
      "-rw-r--r-- 1 jovyan users  321003 Apr 12 15:27 3GKW.pdb\n",
      "-rw-r--r-- 1 jovyan users 1117557 Apr 12 15:27 3P0V.pdb\n",
      "-rw-r--r-- 1 jovyan users 1697598 Apr 12 15:27 5GTY.pdb\n"
     ]
    }
   ],
   "source": [
    "!ls -l raw_receptors"
   ]
  }
 ],
 "metadata": {
  "kernelspec": {
   "display_name": "Python 3 (ipykernel)",
   "language": "python",
   "name": "python3"
  },
  "language_info": {
   "codemirror_mode": {
    "name": "ipython",
    "version": 3
   },
   "file_extension": ".py",
   "mimetype": "text/x-python",
   "name": "python",
   "nbconvert_exporter": "python",
   "pygments_lexer": "ipython3",
   "version": "3.7.12"
  }
 },
 "nbformat": 4,
 "nbformat_minor": 5
}
