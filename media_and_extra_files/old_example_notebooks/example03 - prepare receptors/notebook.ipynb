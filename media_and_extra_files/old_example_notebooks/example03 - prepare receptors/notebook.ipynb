{
 "cells": [
  {
   "cell_type": "code",
   "execution_count": 12,
   "id": "28ac9b9b-8781-4a54-85a1-7f03ad83f3af",
   "metadata": {},
   "outputs": [],
   "source": [
    "%%bash\n",
    "# remove everything except this notebook\n",
    "shopt -s extglob\n",
    "rm -rf !(\"notebook.ipynb\") "
   ]
  },
  {
   "cell_type": "code",
   "execution_count": 13,
   "id": "3820a906-e75c-4a87-9407-a57245d23fbe",
   "metadata": {},
   "outputs": [
    {
     "name": "stdout",
     "output_type": "stream",
     "text": [
      "3GKW.pdb  3P0V.pdb  5GTY.pdb\n"
     ]
    }
   ],
   "source": [
    "# copy raw receptors from example 02\n",
    "!cp -r ../example02*/raw_receptors .\n",
    "!ls raw_receptors"
   ]
  },
  {
   "cell_type": "code",
   "execution_count": 14,
   "id": "803c3f34-0fad-4b0f-90f2-fe45524cbdd0",
   "metadata": {},
   "outputs": [],
   "source": [
    "# list files in directory\n",
    "import glob, os\n",
    "pdb_files = sorted(glob.glob('raw_receptors/*'))\n",
    "pdb_filenames = list(map(lambda x: os.path.splitext(os.path.basename(x))[0], pdb_files))"
   ]
  },
  {
   "cell_type": "code",
   "execution_count": 42,
   "id": "ada64f5c-f823-45fd-a65b-6c1579e7a9b9",
   "metadata": {},
   "outputs": [
    {
     "name": "stdout",
     "output_type": "stream",
     "text": [
      "\n",
      " -------------------------------------------------- \n",
      "\n",
      " raw_receptors/3GKW.pdb \n",
      "\n",
      "3GKW\n",
      "No. models:\t1\n",
      "No. chains:\t2\t(   2.0/model)\n",
      "No. residues:\t397\t( 397.0/model)\n",
      "No. atoms:\t3078\t(3078.0/model)\n",
      "No. HETATM:\t206\n",
      "Multiple Occ.:\tFalse\n",
      "Res. Inserts:\tTrue\n",
      "WARNING! 3GKW_step01 has 28  atoms with alternate locations named ['A', 'B']!\n",
      "\n",
      "WARNING! using alternate location A\n",
      "'Deleting non-standard residues:A8161101_ from 3GKW_step02\n",
      "adding gasteiger charges to peptide\n",
      "\n",
      " -------------------------------------------------- \n",
      "\n",
      " raw_receptors/3P0V.pdb \n",
      "\n",
      "3P0V\n",
      "No. models:\t1\n",
      "No. chains:\t4\t(   4.0/model)\n",
      "No. residues:\t859\t( 859.0/model)\n",
      "No. atoms:\t6511\t(6511.0/model)\n",
      "No. HETATM:\t15\n",
      "Multiple Occ.:\tTrue\n",
      "Res. Inserts:\tTrue\n",
      "WARNING! 3P0V_step01 has 28  atoms with alternate locations named ['A', 'B']!\n",
      "\n",
      "WARNING! using alternate location A\n",
      "'Deleting non-standard residues:A8161101_ from 3P0V_step02\n",
      "adding gasteiger charges to peptide\n",
      "\n",
      " -------------------------------------------------- \n",
      "\n",
      " raw_receptors/5GTY.pdb \n",
      "\n",
      "5GTY\n",
      "No. models:\t1\n",
      "No. chains:\t8\t(   8.0/model)\n",
      "No. residues:\t2384\t(2384.0/model)\n",
      "No. atoms:\t18670\t(18670.0/model)\n",
      "No. HETATM:\t607\n",
      "Multiple Occ.:\tTrue\n",
      "Res. Inserts:\tFalse\n",
      "WARNING! 5GTY_step01 has 28  atoms with alternate locations named ['A', 'B']!\n",
      "\n",
      "WARNING! using alternate location A\n",
      "'Deleting non-standard residues:A8161101_ from 5GTY_step02\n",
      "adding gasteiger charges to peptide\n"
     ]
    }
   ],
   "source": [
    "# create empty directory for prepared receptors\n",
    "!rm -rf prepared_receptors\n",
    "!mkdir prepared_receptors\n",
    "\n",
    "for i,pdb_filepath in enumerate(pdb_files):\n",
    "    print(\"\\n\", \"-\"*50, \"\\n\\n\", pdb_filepath, \"\\n\")\n",
    "    pdb_filename = pdb_filenames[i]; #print(pdb_filename)\n",
    "    !pdb_wc $pdb_filepath\n",
    "    # -------------------------------------------------------------------------------\n",
    "    # step01: remove extra chains\n",
    "    step01_out = \"prepared_receptors/\" + pdb_filename +\"_step01.pdb\"\n",
    "    !pdb_selchain -A {pdb_file} > {step01_out}\n",
    "    # -------------------------------------------------------------------------------\n",
    "    # step02: remove water molecules\n",
    "    # [-U]  cleanup type:\n",
    "    #              'nphs': merge charges and remove non-polar hydrogens\n",
    "    #              'lps': merge charges and remove lone pairs\n",
    "    #              'waters': remove water residues\n",
    "    #              'nonstdres': remove chains composed entirely of residues of\n",
    "    #                       types other than the standard 20 amino acids\n",
    "    #              'deleteAltB': remove XX@B atoms and rename XX@A atoms->XX\n",
    "    #              (default is 'nphs_lps_waters_nonstdres') \n",
    "    step02_out = \"prepared_receptors/\" + pdb_filename +\"_step02.pdbqt\"\n",
    "    !prepare_receptor -r {step01_out} -o {step02_out} -U 'waters'\n",
    "    # -------------------------------------------------------------------------------\n",
    "    # [-e]  delete every nonstd residue from any chain\n",
    "    #               'True': any residue whose name is not in this list:\n",
    "    #                       ['CYS','ILE','SER','VAL','GLN','LYS','ASN', \n",
    "    #                       'PRO','THR','PHE','ALA','HIS','GLY','ASP', \n",
    "    #                       'LEU', 'ARG', 'TRP', 'GLU', 'TYR','MET', \n",
    "    #                       'HID', 'HSP', 'HIE', 'HIP', 'CYX', 'CSS']\n",
    "    #               will be deleted from any chain. \n",
    "    #               NB: there are no  nucleic acid residue names at all \n",
    "    #               in the list and no metals. \n",
    "    #              (default is False which means not to do this)\n",
    "    step03_out = \"prepared_receptors/\" + pdb_filename +\"_step03.pdbqt\"\n",
    "    !prepare_receptor -r {step02_out} -o {step03_out} -e\n",
    "    # -------------------------------------------------------------------------------\n",
    "    # [-A]  type(s) of repairs to make: \n",
    "    #              'bonds_hydrogens': build bonds and add hydrogens \n",
    "    #              'bonds': build a single bond from each atom with no bonds to its closest neighbor\n",
    "    #              'hydrogens': add hydrogens\n",
    "    #              'checkhydrogens': add hydrogens only if there are none already\n",
    "    #              'None': do not make any repairs \n",
    "    #              (default is 'None')\n",
    "    step04_out = \"prepared_receptors/\" + pdb_filename +\"_step04.pdbqt\"\n",
    "    !prepare_receptor -r {step03_out} -o {step04_out} -A 'hydrogens'\n",
    "    # -------------------------------------------------------------------------------\n",
    "    !mv {step04_out} \"prepared_receptors/\"{pdb_filename}\".pdbqt\"\n",
    "    !rm prepared_receptors/*_step*\n",
    "    # -------------------------------------------------------------------------------"
   ]
  },
  {
   "cell_type": "code",
   "execution_count": 39,
   "id": "ddd741af-d6c5-4dc6-8399-d97563f165fc",
   "metadata": {},
   "outputs": [
    {
     "name": "stdout",
     "output_type": "stream",
     "text": [
      "3GKW.pdbqt  3P0V.pdbqt\t5GTY.pdbqt\n"
     ]
    }
   ],
   "source": [
    "!ls prepared_receptors"
   ]
  },
  {
   "cell_type": "code",
   "execution_count": 41,
   "id": "5428e22c-5661-480f-a971-c8a6ddac5e14",
   "metadata": {},
   "outputs": [
    {
     "name": "stdout",
     "output_type": "stream",
     "text": [
      "No. models:\t1\n",
      "No. chains:\t1\t(   1.0/model)\n",
      "No. residues:\t300\t( 300.0/model)\n",
      "No. atoms:\t2865\t(2865.0/model)\n",
      "No. HETATM:\t0\n",
      "Multiple Occ.:\tFalse\n",
      "Res. Inserts:\tFalse\n"
     ]
    }
   ],
   "source": [
    "!pdb_wc prepared_receptors/3GKW.pdbqt"
   ]
  }
 ],
 "metadata": {
  "kernelspec": {
   "display_name": "Python 3 (ipykernel)",
   "language": "python",
   "name": "python3"
  },
  "language_info": {
   "codemirror_mode": {
    "name": "ipython",
    "version": 3
   },
   "file_extension": ".py",
   "mimetype": "text/x-python",
   "name": "python",
   "nbconvert_exporter": "python",
   "pygments_lexer": "ipython3",
   "version": "3.7.12"
  }
 },
 "nbformat": 4,
 "nbformat_minor": 5
}
