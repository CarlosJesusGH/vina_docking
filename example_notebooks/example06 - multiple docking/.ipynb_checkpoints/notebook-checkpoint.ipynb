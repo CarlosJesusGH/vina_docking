{
 "cells": [
  {
   "cell_type": "code",
   "execution_count": 33,
   "id": "89f29fed-57da-4134-a35d-5d650d7b026e",
   "metadata": {},
   "outputs": [],
   "source": [
    "%%bash\n",
    "# remove everything except this notebook\n",
    "shopt -s extglob\n",
    "rm -rf !(\"notebook.ipynb\") "
   ]
  },
  {
   "cell_type": "code",
   "execution_count": 34,
   "id": "02c412e4-35fb-4c7f-a636-689f7bc70cf8",
   "metadata": {},
   "outputs": [
    {
     "name": "stdout",
     "output_type": "stream",
     "text": [
      "\u001b[01;34m.\u001b[0m\n",
      "├── \u001b[00mnotebook.ipynb\u001b[0m\n",
      "├── \u001b[01;34mprepared_ligands\u001b[0m\n",
      "│   ├── \u001b[00m1iep_ligand_G_STI.pdbqt\u001b[0m\n",
      "│   └── \u001b[00m1iep_ligand.pdbqt\u001b[0m\n",
      "├── \u001b[01;34mprepared_receptors\u001b[0m\n",
      "│   ├── \u001b[00m3GKW.pdbqt\u001b[0m\n",
      "│   ├── \u001b[00m3P0V.pdbqt\u001b[0m\n",
      "│   └── \u001b[00m5GTY.pdbqt\u001b[0m\n",
      "└── \u001b[01;34mresults\u001b[0m\n",
      "\n",
      "3 directories, 6 files\n"
     ]
    }
   ],
   "source": [
    "# copy prepared molecules from examples 03 and 04\n",
    "!cp -r ../example03*/prepared_receptors .\n",
    "!cp -r ../example04*/prepared_ligands .\n",
    "!mkdir results\n",
    "!tree ."
   ]
  },
  {
   "cell_type": "code",
   "execution_count": 35,
   "id": "46c33163-13cf-40b0-a948-126ef0fd58f5",
   "metadata": {},
   "outputs": [
    {
     "name": "stdout",
     "output_type": "stream",
     "text": [
      "ligand_filepaths: ['prepared_ligands/1iep_ligand.pdbqt', 'prepared_ligands/1iep_ligand_G_STI.pdbqt'] \n",
      "receptor_filepaths: ['prepared_receptors/3GKW.pdbqt', 'prepared_receptors/3P0V.pdbqt', 'prepared_receptors/5GTY.pdbqt']\n"
     ]
    }
   ],
   "source": [
    "# list files in directories\n",
    "import glob, os\n",
    "ligand_filepaths = sorted(glob.glob('prepared_ligands/*'))\n",
    "ligand_filenames = list(map(lambda x: os.path.splitext(os.path.basename(x))[0], ligand_filepaths))\n",
    "\n",
    "receptor_filepaths = sorted(glob.glob('prepared_receptors/*'))\n",
    "receptor_filenames = list(map(lambda x: os.path.splitext(os.path.basename(x))[0], receptor_filepaths))\n",
    "\n",
    "print(\"ligand_filepaths:\", ligand_filepaths, \"\\nreceptor_filepaths:\", receptor_filepaths)"
   ]
  },
  {
   "cell_type": "code",
   "execution_count": 37,
   "id": "81bf1a4d-c859-4820-99fc-e1c05c95f5d9",
   "metadata": {},
   "outputs": [],
   "source": [
    "# set docking parameters\n",
    "vina_map_center = [-57.735, -3.936, -24.746]\n",
    "vina_map_box_size = [41.25, 47.25, 45.0]\n",
    "docking_exhaustiveness = 1 #32\n",
    "docking_n_poses = 1 #20\n",
    "results_dir = 'results'"
   ]
  },
  {
   "cell_type": "code",
   "execution_count": null,
   "id": "b3049de5-d75a-48eb-8779-eb4f05c7dc28",
   "metadata": {},
   "outputs": [
    {
     "name": "stdout",
     "output_type": "stream",
     "text": [
      "\n",
      "\n",
      "--------------------------------------------------\n",
      "RECEPTOR 1 out of 3\n",
      "prepared_receptors/3GKW.pdbqt\n",
      "\n",
      "\t--------------------------------------------------\n",
      "\tLIGAND 1 out of 2\n",
      "\tprepared_ligands/1iep_ligand.pdbqt\n",
      "\n",
      "mode |   affinity | dist from best mode\n",
      "     | (kcal/mol) | rmsd l.b.| rmsd u.b.\n",
      "-----+------------+----------+----------\n",
      "   1       -7.335          0          0\n",
      "Computing Vina grid ... done.\n"
     ]
    },
    {
     "name": "stderr",
     "output_type": "stream",
     "text": [
      "WARNING: Search space volume is greater than 27000 Angstrom^3 (See FAQ)\n",
      "WARNING: At low exhaustiveness, it may be impossible to utilize all CPUs.\n"
     ]
    },
    {
     "name": "stdout",
     "output_type": "stream",
     "text": [
      "Performing docking (random seed: 1275267842) ... \n",
      "0%   10   20   30   40   50   60   70   80   90   100%\n",
      "|----|----|----|----|----|----|----|----|----|----|\n",
      "***************************************************\n",
      "time for ligand 00:00:19, global time 00:00:19\n",
      "\n",
      "\t--------------------------------------------------\n",
      "\tLIGAND 2 out of 2\n",
      "\tprepared_ligands/1iep_ligand_G_STI.pdbqt\n"
     ]
    },
    {
     "name": "stderr",
     "output_type": "stream",
     "text": [
      "WARNING: Search space volume is greater than 27000 Angstrom^3 (See FAQ)\n",
      "WARNING: At low exhaustiveness, it may be impossible to utilize all CPUs.\n"
     ]
    },
    {
     "name": "stdout",
     "output_type": "stream",
     "text": [
      "\n",
      "mode |   affinity | dist from best mode\n",
      "     | (kcal/mol) | rmsd l.b.| rmsd u.b.\n",
      "-----+------------+----------+----------\n",
      "   1       -7.196          0          0\n",
      "Computing Vina grid ... done.\n",
      "time for ligand 00:00:19, global time 00:00:39\n",
      "time for receptor 00:00:39, global time 00:00:39\n",
      "\n",
      "\n",
      "--------------------------------------------------\n",
      "RECEPTOR 2 out of 3\n",
      "prepared_receptors/3P0V.pdbqt\n",
      "Performing docking (random seed: 1275267842) ... \n",
      "0%   10   20   30   40   50   60   70   80   90   100%\n",
      "|----|----|----|----|----|----|----|----|----|----|\n",
      "***************************************************\n",
      "\n",
      "\t--------------------------------------------------\n",
      "\tLIGAND 1 out of 2\n",
      "\tprepared_ligands/1iep_ligand.pdbqt\n",
      "\n",
      "mode |   affinity | dist from best mode\n",
      "     | (kcal/mol) | rmsd l.b.| rmsd u.b.\n",
      "-----+------------+----------+----------\n",
      "   1       -6.549          0          0\n",
      "Computing Vina grid ... done.\n",
      "Performing docking (random seed: 1275267842) ... \n",
      "0%   10   20   30   40   50   60   70   80   90   100%\n",
      "|----|----|----|----|----|----|----|----|----|----|\n",
      "***************************************************\n",
      "time for ligand 00:00:19, global time 00:00:59\n",
      "\n",
      "\t--------------------------------------------------\n",
      "\tLIGAND 2 out of 2\n",
      "\tprepared_ligands/1iep_ligand_G_STI.pdbqt\n"
     ]
    },
    {
     "name": "stderr",
     "output_type": "stream",
     "text": [
      "WARNING: Search space volume is greater than 27000 Angstrom^3 (See FAQ)\n",
      "WARNING: At low exhaustiveness, it may be impossible to utilize all CPUs.\n",
      "WARNING: Search space volume is greater than 27000 Angstrom^3 (See FAQ)\n",
      "WARNING: At low exhaustiveness, it may be impossible to utilize all CPUs.\n"
     ]
    },
    {
     "name": "stdout",
     "output_type": "stream",
     "text": [
      "time for ligand 00:00:19, global time 00:01:19\n",
      "time for receptor 00:00:39, global time 00:01:19\n",
      "\n",
      "\n",
      "--------------------------------------------------\n",
      "RECEPTOR 3 out of 3\n",
      "prepared_receptors/5GTY.pdbqt\n",
      "\n",
      "mode |   affinity | dist from best mode\n",
      "     | (kcal/mol) | rmsd l.b.| rmsd u.b.\n",
      "-----+------------+----------+----------\n",
      "   1       -7.196          0          0\n",
      "\n",
      "\t--------------------------------------------------\n",
      "\tLIGAND 1 out of 2\n",
      "\tprepared_ligands/1iep_ligand.pdbqt\n"
     ]
    },
    {
     "name": "stderr",
     "output_type": "stream",
     "text": [
      "WARNING: Search space volume is greater than 27000 Angstrom^3 (See FAQ)\n",
      "WARNING: At low exhaustiveness, it may be impossible to utilize all CPUs.\n"
     ]
    }
   ],
   "source": [
    "from vina import Vina\n",
    "import time\n",
    "\n",
    "v = Vina(sf_name='vina')\n",
    "\n",
    "# set a time flag for each docking\n",
    "global_init_time = time.time()\n",
    "\n",
    "# loop over receptors\n",
    "for i,receptor_filepath in enumerate(receptor_filepaths):\n",
    "    # logging\n",
    "    print(\"\\n\\n\"+\"-\"*50, \"RECEPTOR {} out of {}\".format(i+1, len(receptor_filepaths)), receptor_filepath, sep='\\n')\n",
    "    receptor_filename = receptor_filenames[i];\n",
    "    receptor_init_time = time.time()\n",
    "    \n",
    "    # set receptor molecule for the docking\n",
    "    v.set_receptor(receptor_filepath)\n",
    "    \n",
    "    # loop over ligands\n",
    "    for j,ligand_filepath in enumerate(ligand_filepaths):\n",
    "        # logging\n",
    "        print(\"\\n\\t\"+\"-\"*50, \"\\tLIGAND {} out of {}\".format(j+1, len(ligand_filepaths)),\"\\t\" + ligand_filepath, sep='\\n')\n",
    "        ligand_filename = ligand_filenames[j];\n",
    "        ligand_init_time = time.time()\n",
    "\n",
    "        v.set_ligand_from_file(ligand_filepath)\n",
    "        v.compute_vina_maps(center=vina_map_center, box_size=vina_map_box_size)\n",
    "\n",
    "        # Score the current pose\n",
    "        # energy = v.score()\n",
    "        # print('Score before minimization: %.3f (kcal/mol)' % energy[0])\n",
    "\n",
    "        # Minimized locally the current pose\n",
    "        # energy_minimized = v.optimize()\n",
    "        # print('Score after minimization : %.3f (kcal/mol)' % energy_minimized[0])\n",
    "        # v.write_pose(ligand_molecule.split('.')[0] + '_minimized.pdbqt', overwrite=True)\n",
    "\n",
    "        # Dock the ligand\n",
    "        v.dock(exhaustiveness=docking_exhaustiveness, n_poses=docking_n_poses)\n",
    "        result_filename = 'vinaout_r_' + receptor_filename + '_l_' + ligand_filename + '.pdbqt'\n",
    "        v.write_poses(results_dir + '/' + result_filename, n_poses=docking_n_poses, overwrite=True)\n",
    "    \n",
    "        # logging\n",
    "        print(\"time for ligand {}, global time {}\".format(time.strftime(\"%H:%M:%S\", time.gmtime(time.time() - ligand_init_time)), time.strftime(\"%H:%M:%S\", time.gmtime(time.time() - global_init_time))))\n",
    "        # -----------------------------\n",
    "    # logging\n",
    "    print(\"time for receptor {}, global time {}\".format(time.strftime(\"%H:%M:%S\", time.gmtime(time.time() - receptor_init_time)), time.strftime(\"%H:%M:%S\", time.gmtime(time.time() - global_init_time))))"
   ]
  },
  {
   "cell_type": "code",
   "execution_count": null,
   "id": "017845f6-da92-4d38-8bfc-21e19e45cf85",
   "metadata": {},
   "outputs": [],
   "source": []
  }
 ],
 "metadata": {
  "kernelspec": {
   "display_name": "Python 3 (ipykernel)",
   "language": "python",
   "name": "python3"
  },
  "language_info": {
   "codemirror_mode": {
    "name": "ipython",
    "version": 3
   },
   "file_extension": ".py",
   "mimetype": "text/x-python",
   "name": "python",
   "nbconvert_exporter": "python",
   "pygments_lexer": "ipython3",
   "version": "3.7.12"
  }
 },
 "nbformat": 4,
 "nbformat_minor": 5
}
