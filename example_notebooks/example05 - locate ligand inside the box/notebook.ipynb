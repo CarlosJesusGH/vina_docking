{
 "cells": [
  {
   "cell_type": "code",
   "execution_count": null,
   "id": "10674b49-6982-4941-9333-6bd163af80c2",
   "metadata": {},
   "outputs": [],
   "source": [
    "# to test any error in the terminal, use:\n",
    "# ipython3 -c \"%run notebook.ipynb\""
   ]
  },
  {
   "cell_type": "code",
   "execution_count": 1,
   "id": "8c39847a-f1b8-4246-86b9-2173c2e0cf77",
   "metadata": {},
   "outputs": [],
   "source": [
    "%%bash\n",
    "# remove everything except this notebook\n",
    "shopt -s extglob\n",
    "rm -rf !(\"notebook.ipynb\") "
   ]
  },
  {
   "cell_type": "code",
   "execution_count": 2,
   "id": "0e2ddac4-2610-478b-a29d-f1925cac929a",
   "metadata": {},
   "outputs": [
    {
     "name": "stdout",
     "output_type": "stream",
     "text": [
      "# conda environments:\n",
      "#\n",
      "base                     /opt/conda\n",
      "\n"
     ]
    }
   ],
   "source": [
    "!conda env list"
   ]
  },
  {
   "cell_type": "code",
   "execution_count": 1,
   "id": "c3273ff9-d413-4767-a422-d0f45af337d3",
   "metadata": {},
   "outputs": [
    {
     "name": "stdout",
     "output_type": "stream",
     "text": [
      "vina version: 1.2.3\n",
      "Computing Vina grid ... ligand center:   -0.011   -0.218    0.005\n",
      "score: [29.066 29.066  0.     0.     0.     0.     0.     0.   ]\n",
      "done.\n"
     ]
    }
   ],
   "source": [
    "from rdkit import Chem\n",
    "from rdkit.Chem import rdDistGeom\n",
    "from meeko import MoleculePreparation\n",
    "from vina import Vina\n",
    "import numpy as np\n",
    "import vina\n",
    "\n",
    "try:\n",
    "    print(\"vina version:\", vina.__version__)\n",
    "except AttributeError:\n",
    "    print(\"vina.__version__ not available:\")\n",
    "\n",
    "receptor_string = \"ATOM      1  C   UNL     1       0.000   0.000   0.000  0.00  0.00    +0.000 C \"\n",
    "rec_fn = \"my_rec_is_just_a_carbon.pdbqt\"\n",
    "print(receptor_string, file=open(rec_fn, \"w\"))\n",
    "\n",
    "maps_center = [0, 0, 0]\n",
    "maps_size_angstroms = [10, 10, 10]\n",
    "\n",
    "pyridine = Chem.MolFromSmiles(\"C1=CC=CN=C1\")\n",
    "pyridine = Chem.AddHs(pyridine)\n",
    "etkdg_params = rdDistGeom.ETKDGv3()\n",
    "rdDistGeom.EmbedMolecule(pyridine, etkdg_params)\n",
    "\n",
    "mkprep = MoleculePreparation()\n",
    "mkprep.prepare(pyridine)\n",
    "lig_string = mkprep.write_pdbqt_string()\n",
    "\n",
    "v = Vina()\n",
    "v.set_receptor(rec_fn)\n",
    "v.set_ligand_from_string(lig_string)\n",
    "v.compute_vina_maps(center=maps_center, box_size=maps_size_angstroms)\n",
    "\n",
    "def print_ligand_center(molsetup):\n",
    "    lig_xyz = []\n",
    "    for atom_index, is_atom_ignored in molsetup.atom_ignore.items():\n",
    "        if not is_atom_ignored:\n",
    "            lig_xyz.append(molsetup.coord[atom_index].copy())\n",
    "    lig_xyz = np.array(lig_xyz)\n",
    "    print(\"ligand center: %8.3f %8.3f %8.3f\" % tuple(np.mean(lig_xyz, 0)))\n",
    "\n",
    "print_ligand_center(mkprep.setup)\n",
    "score = v.score()\n",
    "print(\"score:\", score)\n",
    "\n",
    "if False: # this stops the kernel without even throwing an exception\n",
    "    # translate ligand out of box\n",
    "    for atom_index in mkprep.setup.coord:\n",
    "        x, y, z = mkprep.setup.coord[atom_index]\n",
    "        mkprep.setup.coord[atom_index] = np.array([x + 200, y + 200, z + 200])\n",
    "\n",
    "    print_ligand_center(mkprep.setup)\n",
    "    lig_string = mkprep.write_pdbqt_string()\n",
    "    v.set_ligand_from_string(lig_string)\n",
    "    score = v.score()\n",
    "    print(\"score:\", score)"
   ]
  }
 ],
 "metadata": {
  "kernelspec": {
   "display_name": "Python 3 (ipykernel)",
   "language": "python",
   "name": "python3"
  },
  "language_info": {
   "codemirror_mode": {
    "name": "ipython",
    "version": 3
   },
   "file_extension": ".py",
   "mimetype": "text/x-python",
   "name": "python",
   "nbconvert_exporter": "python",
   "pygments_lexer": "ipython3",
   "version": "3.7.12"
  }
 },
 "nbformat": 4,
 "nbformat_minor": 5
}
