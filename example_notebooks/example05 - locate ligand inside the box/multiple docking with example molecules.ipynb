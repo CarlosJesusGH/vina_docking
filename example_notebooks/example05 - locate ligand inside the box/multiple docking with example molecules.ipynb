{
 "cells": [
  {
   "cell_type": "code",
   "execution_count": 1,
   "id": "cc37e4e8-55e7-4317-a523-40fad04b1f71",
   "metadata": {},
   "outputs": [
    {
     "name": "stdout",
     "output_type": "stream",
     "text": [
      "Requirement already satisfied: vina in /opt/conda/lib/python3.7/site-packages (1.2.3)\n",
      "Requirement already satisfied: numpy>=1.18 in /opt/conda/lib/python3.7/site-packages (from vina) (1.21.6)\n"
     ]
    }
   ],
   "source": [
    "# !pip install vina"
   ]
  },
  {
   "cell_type": "code",
   "execution_count": 2,
   "id": "d327025e-371e-487b-af6c-250b721dbf4d",
   "metadata": {},
   "outputs": [
    {
     "name": "stdout",
     "output_type": "stream",
     "text": [
      "Cloning into 'AutoDock-Vina'...\n",
      "remote: Enumerating objects: 2377, done.\u001b[K\n",
      "remote: Counting objects: 100% (183/183), done.\u001b[K\n",
      "remote: Compressing objects: 100% (98/98), done.\u001b[K\n",
      "remote: Total 2377 (delta 81), reused 156 (delta 71), pack-reused 2194\u001b[K\n",
      "Receiving objects: 100% (2377/2377), 47.16 MiB | 13.49 MiB/s, done.\n",
      "Resolving deltas: 100% (1416/1416), done.\n"
     ]
    }
   ],
   "source": [
    "# download the molecules for a simple python_scripting example\n",
    "# !git clone https://github.com/ccsb-scripps/AutoDock-Vina.git"
   ]
  },
  {
   "cell_type": "code",
   "execution_count": 3,
   "id": "6e70d4bc-e40b-498a-b3f7-62b1beae015e",
   "metadata": {},
   "outputs": [
    {
     "name": "stdout",
     "output_type": "stream",
     "text": [
      "1iep_ligand.pdbqt  1iep_receptor.pdbqt\tAutoDock-Vina  Untitled.ipynb\n"
     ]
    }
   ],
   "source": [
    "# copy the example molecules to the current directory\n",
    "# !ls ./AutoDock-Vina/example/python_scripting/*\n",
    "# !cp ./AutoDock-Vina/example/python_scripting/1iep* .\n",
    "!ls ."
   ]
  },
  {
   "cell_type": "code",
   "execution_count": 4,
   "id": "fa98a2d4-2f6b-4a43-bc1c-ef02299e22f6",
   "metadata": {},
   "outputs": [
    {
     "name": "stdout",
     "output_type": "stream",
     "text": [
      "1iep_ligand_1.pdbqt\n",
      "1iep_ligand_2.pdbqt\n",
      "1iep_ligand_3.pdbqt\n",
      "1iep_ligand.pdbqt\n",
      "1iep_receptor.pdbqt\n",
      "AutoDock-Vina\n",
      "Untitled.ipynb\n"
     ]
    }
   ],
   "source": [
    "# %%bash\n",
    "# replicate ligand into several files\n",
    "# rm -f 1iep_ligand_*\n",
    "# number_of_copies=3\n",
    "# for i in $(seq 1 $number_of_copies); do cp 1iep_ligand.pdbqt \"1iep_ligand_$i.pdbqt\"; done\n",
    "# ls"
   ]
  },
  {
   "cell_type": "code",
   "execution_count": 9,
   "id": "fa112fab-a076-465b-a038-506337130415",
   "metadata": {},
   "outputs": [
    {
     "data": {
      "text/plain": [
       "['test_Acetamidoeugenol.pdbqt', 'test_ranitidine.pdbqt']"
      ]
     },
     "execution_count": 9,
     "metadata": {},
     "output_type": "execute_result"
    }
   ],
   "source": [
    "# set docking parameters\n",
    "receptor_molecule = '2itx_clean.pdbqt'\n",
    "vina_map_center = [-57.735, -3.936, -24.746]\n",
    "vina_map_box_size = [30,30,31]\n",
    "docking_exhaustiveness = 10 #32\n",
    "docking_n_poses = 5 #20\n",
    "\n",
    "# read files in directory according to pattern\n",
    "# this could be changed if we know the exact name of the ligand files\n",
    "import glob\n",
    "ligand_molecules = sorted(glob.glob('test_*.pdbqt'))\n",
    "ligand_molecules"
   ]
  },
  {
   "cell_type": "code",
   "execution_count": null,
   "id": "d1dfd473-4506-4956-957d-f9a8a94cf63a",
   "metadata": {},
   "outputs": [],
   "source": [
    "%%time\n",
    "from vina import Vina\n",
    "\n",
    "import time\n",
    "\n",
    "v = Vina(sf_name='vina')\n",
    "\n",
    "v.set_receptor(receptor_molecule)\n",
    "\n",
    "# set a time flag for each ligand\n",
    "global_init_time = time.time()\n",
    "\n",
    "for i, ligand_molecule in enumerate(ligand_molecules):\n",
    "  # logging\n",
    "  print(\"working with ligand %d out of %d\" % (i, len(ligand_molecules)))\n",
    "  print(\"name of ligand file is %s\" % ligand_molecule)\n",
    "  ligand_init_time = time.time()\n",
    "\n",
    "  v.set_ligand_from_file(ligand_molecule)\n",
    "  v.compute_vina_maps(center=vina_map_center, box_size=vina_map_box_size)\n",
    "    \n",
    "  print(v.info())\n",
    "\n",
    "  # Score the current pose\n",
    "  energy = v.score()\n",
    "  print('Score before minimization: %.3f (kcal/mol)' % energy[0])\n",
    "\n",
    "  # Minimized locally the current pose\n",
    "  energy_minimized = v.optimize()\n",
    "  print('Score after minimization : %.3f (kcal/mol)' % energy_minimized[0])\n",
    "  v.write_pose(ligand_molecule.split('.')[0] + '_minimized.pdbqt', overwrite=True)\n",
    "\n",
    "  # Dock the ligand\n",
    "  v.dock(exhaustiveness=docking_exhaustiveness, n_poses=docking_n_poses)\n",
    "  v.write_poses(ligand_molecule.split('.')[0] + '_vina_out.pdbqt', n_poses=5, overwrite=True)\n",
    "\n",
    "  # log time in human readable format\n",
    "  print(\"time elapsed for ligand is %s\" % time.strftime(\"%H:%M:%S\", time.gmtime(time.time() - ligand_init_time)))\n",
    "  print(\"global time elapsed is %s\" % time.strftime(\"%H:%M:%S\", time.gmtime(time.time() - global_init_time)))\n",
    "  print(\"-\"*50)"
   ]
  },
  {
   "cell_type": "code",
   "execution_count": null,
   "id": "5394673c-98b6-4fd4-91fe-0c72683a537f",
   "metadata": {},
   "outputs": [],
   "source": []
  }
 ],
 "metadata": {
  "kernelspec": {
   "display_name": "Python 3 (ipykernel)",
   "language": "python",
   "name": "python3"
  },
  "language_info": {
   "codemirror_mode": {
    "name": "ipython",
    "version": 3
   },
   "file_extension": ".py",
   "mimetype": "text/x-python",
   "name": "python",
   "nbconvert_exporter": "python",
   "pygments_lexer": "ipython3",
   "version": "3.7.12"
  }
 },
 "nbformat": 4,
 "nbformat_minor": 5
}
