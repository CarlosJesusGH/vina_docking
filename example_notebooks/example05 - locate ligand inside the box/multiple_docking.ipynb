{
 "cells": [
  {
   "cell_type": "code",
   "execution_count": 1,
   "id": "83fc70ea-613e-46af-85a6-5e554ea0510f",
   "metadata": {},
   "outputs": [
    {
     "name": "stdout",
     "output_type": "stream",
     "text": [
      "Collecting vina\n",
      "  Downloading vina-1.2.3-cp37-cp37m-manylinux_2_17_x86_64.manylinux2014_x86_64.whl (7.0 MB)\n",
      "\u001b[2K     \u001b[90m━━━━━━━━━━━━━━━━━━━━━━━━━━━━━━━━━━━━━━━━\u001b[0m \u001b[32m7.0/7.0 MB\u001b[0m \u001b[31m45.0 MB/s\u001b[0m eta \u001b[36m0:00:00\u001b[0m00:01\u001b[0m00:01\u001b[0m\n",
      "\u001b[?25hCollecting numpy>=1.18\n",
      "  Downloading numpy-1.21.6-cp37-cp37m-manylinux_2_12_x86_64.manylinux2010_x86_64.whl (15.7 MB)\n",
      "\u001b[2K     \u001b[90m━━━━━━━━━━━━━━━━━━━━━━━━━━━━━━━━━━━━━━━━\u001b[0m \u001b[32m15.7/15.7 MB\u001b[0m \u001b[31m86.6 MB/s\u001b[0m eta \u001b[36m0:00:00\u001b[0m00:01\u001b[0m00:01\u001b[0m\n",
      "\u001b[?25hInstalling collected packages: numpy, vina\n",
      "Successfully installed numpy-1.21.6 vina-1.2.3\n"
     ]
    }
   ],
   "source": [
    "!pip install vina"
   ]
  },
  {
   "cell_type": "code",
   "execution_count": 2,
   "id": "0130f92f-5e7b-459d-a3ef-f3a340ed7585",
   "metadata": {},
   "outputs": [
    {
     "name": "stdout",
     "output_type": "stream",
     "text": [
      "['drug1.pdbqt']\n"
     ]
    }
   ],
   "source": [
    "# set docking parameters\n",
    "receptor_molecule = 'protein.pdbqt'\n",
    "vina_map_center = [-57.735, -3.936, -24.746]\n",
    "vina_map_box_size = [41.25, 47.25, 45.0]\n",
    "docking_exhaustiveness = 5 #32\n",
    "docking_n_poses = 5 #20\n",
    "\n",
    "# read files in directory according to pattern\n",
    "# this could be changed if we know the exact name of the ligand files\n",
    "import glob\n",
    "ligand_molecules = sorted(glob.glob('drug*.pdbqt'))\n",
    "print(ligand_molecules)"
   ]
  },
  {
   "cell_type": "code",
   "execution_count": null,
   "id": "9379d7a0-fc68-44db-a4aa-5ceee511e6c8",
   "metadata": {},
   "outputs": [],
   "source": [
    "#%%time\n",
    "from vina import Vina\n",
    "import time\n",
    "\n",
    "v = Vina(sf_name='vina')\n",
    "\n",
    "v.set_receptor(receptor_molecule)\n",
    "\n",
    "# set a time flag for each ligand\n",
    "global_init_time = time.time()\n",
    "\n",
    "for i, ligand_molecule in enumerate(ligand_molecules):\n",
    "  # logging\n",
    "  print(\"working with ligand %d out of %d\" % (i, len(ligand_molecules)))\n",
    "  print(\"name of ligand file is %s\" % ligand_molecule)\n",
    "  ligand_init_time = time.time()\n",
    "\n",
    "  v.set_ligand_from_file(ligand_molecule)\n",
    "  v.compute_vina_maps(center=vina_map_center, box_size=vina_map_box_size)\n",
    "\n",
    "  # Score the current pose\n",
    "  energy = v.score()\n",
    "  print('Score before minimization: %.3f (kcal/mol)' % energy[0])\n",
    "\n",
    "  # Minimized locally the current pose\n",
    "  energy_minimized = v.optimize()\n",
    "  print('Score after minimization : %.3f (kcal/mol)' % energy_minimized[0])\n",
    "  v.write_pose(ligand_molecule.split('.')[0] + '_minimized.pdbqt', overwrite=True)\n",
    "\n",
    "  # Dock the ligand\n",
    "  v.dock(exhaustiveness=docking_exhaustiveness, n_poses=docking_n_poses)\n",
    "  v.write_poses(ligand_molecule.split('.')[0] + '_vina_out.pdbqt', n_poses=5, overwrite=True)\n",
    "\n",
    "  # log time in human readable format\n",
    "  print(\"time elapsed for ligand is %s\" % time.strftime(\"%H:%M:%S\", time.gmtime(time.time() - ligand_init_time)))\n",
    "  print(\"global time elapsed is %s\" % time.strftime(\"%H:%M:%S\", time.gmtime(time.time() - global_init_time)))\n",
    "  print(\"-\"*50)"
   ]
  },
  {
   "cell_type": "code",
   "execution_count": null,
   "id": "79a1b33f-603c-45ef-8e78-b5652989d19b",
   "metadata": {},
   "outputs": [],
   "source": []
  }
 ],
 "metadata": {
  "kernelspec": {
   "display_name": "Python 3 (ipykernel)",
   "language": "python",
   "name": "python3"
  },
  "language_info": {
   "codemirror_mode": {
    "name": "ipython",
    "version": 3
   },
   "file_extension": ".py",
   "mimetype": "text/x-python",
   "name": "python",
   "nbconvert_exporter": "python",
   "pygments_lexer": "ipython3",
   "version": "3.7.12"
  }
 },
 "nbformat": 4,
 "nbformat_minor": 5
}
