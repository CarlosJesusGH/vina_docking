{
 "cells": [
  {
   "cell_type": "code",
   "execution_count": 1,
   "id": "38e8a505-f40a-4c45-bdd3-b5477d78c2d4",
   "metadata": {},
   "outputs": [],
   "source": [
    "# %%bash\n",
    "# remove everything except this notebook\n",
    "# shopt -s extglob\n",
    "# rm -rf !(\"notebook.ipynb\") \n",
    "# to test any error in the terminal, use:\n",
    "# !ipython3 -c \"%run notebook.ipynb\""
   ]
  },
  {
   "cell_type": "code",
   "execution_count": 5,
   "id": "07ab779c-d2d8-4b55-96df-7d166adf6bcd",
   "metadata": {},
   "outputs": [
    {
     "name": "stdout",
     "output_type": "stream",
     "text": [
      "fpocket                   4.0.2                hbb826e7_0    conda-forge\n"
     ]
    }
   ],
   "source": [
    "!conda list | grep fpocket"
   ]
  },
  {
   "cell_type": "code",
   "execution_count": 2,
   "id": "8d75573e-ea16-4d6c-a318-0dd0d6ca81f1",
   "metadata": {},
   "outputs": [],
   "source": [
    "!mkdir fpocket_output"
   ]
  },
  {
   "cell_type": "code",
   "execution_count": 6,
   "id": "20d51121-e357-43ce-8650-7eae0e01771d",
   "metadata": {},
   "outputs": [
    {
     "ename": "ModuleNotFoundError",
     "evalue": "No module named 'fpocket'",
     "output_type": "error",
     "traceback": [
      "\u001b[0;31m---------------------------------------------------------------------------\u001b[0m",
      "\u001b[0;31mModuleNotFoundError\u001b[0m                       Traceback (most recent call last)",
      "\u001b[0;32m/tmp/ipykernel_2863/832133120.py\u001b[0m in \u001b[0;36m<module>\u001b[0;34m\u001b[0m\n\u001b[0;32m----> 1\u001b[0;31m \u001b[0;32mfrom\u001b[0m \u001b[0mfpocket\u001b[0m \u001b[0;32mimport\u001b[0m \u001b[0;34m*\u001b[0m\u001b[0;34m\u001b[0m\u001b[0;34m\u001b[0m\u001b[0m\n\u001b[0m",
      "\u001b[0;31mModuleNotFoundError\u001b[0m: No module named 'fpocket'"
     ]
    }
   ],
   "source": [
    "from fpocket import *"
   ]
  },
  {
   "cell_type": "code",
   "execution_count": 4,
   "id": "4f5fcf8a-5510-4603-b537-a2826f62df4f",
   "metadata": {},
   "outputs": [
    {
     "ename": "ModuleNotFoundError",
     "evalue": "No module named 'fpocket'",
     "output_type": "error",
     "traceback": [
      "\u001b[0;31m---------------------------------------------------------------------------\u001b[0m",
      "\u001b[0;31mModuleNotFoundError\u001b[0m                       Traceback (most recent call last)",
      "\u001b[0;32m/tmp/ipykernel_2863/977355549.py\u001b[0m in \u001b[0;36m<module>\u001b[0;34m\u001b[0m\n\u001b[0;32m----> 1\u001b[0;31m \u001b[0;32mfrom\u001b[0m \u001b[0mfpocket\u001b[0m\u001b[0;34m.\u001b[0m\u001b[0mfpocket_run\u001b[0m \u001b[0;32mimport\u001b[0m \u001b[0mfpocket_run\u001b[0m\u001b[0;34m\u001b[0m\u001b[0;34m\u001b[0m\u001b[0m\n\u001b[0m\u001b[1;32m      2\u001b[0m \u001b[0;31m# prop = {\u001b[0m\u001b[0;34m\u001b[0m\u001b[0;34m\u001b[0m\u001b[0;34m\u001b[0m\u001b[0m\n\u001b[1;32m      3\u001b[0m \u001b[0;31m#     'min_radius': 3,\u001b[0m\u001b[0;34m\u001b[0m\u001b[0;34m\u001b[0m\u001b[0;34m\u001b[0m\u001b[0m\n\u001b[1;32m      4\u001b[0m \u001b[0;31m#     'max_radius': 6,\u001b[0m\u001b[0;34m\u001b[0m\u001b[0;34m\u001b[0m\u001b[0;34m\u001b[0m\u001b[0m\n\u001b[1;32m      5\u001b[0m \u001b[0;31m#     'num_spheres': 35,\u001b[0m\u001b[0;34m\u001b[0m\u001b[0;34m\u001b[0m\u001b[0;34m\u001b[0m\u001b[0m\n",
      "\u001b[0;31mModuleNotFoundError\u001b[0m: No module named 'fpocket'"
     ]
    }
   ],
   "source": [
    "from fpocket.fpocket_run import fpocket_run\n",
    "# prop = {\n",
    "#     'min_radius': 3,\n",
    "#     'max_radius': 6,\n",
    "#     'num_spheres': 35,\n",
    "#     'sort_by': 'druggability_score'\n",
    "# }\n",
    "# fpocket_run(input_pdb_path='/path/to/myStructure.pdb',\n",
    "#         output_pockets_zip='/path/to/newPockets.zip',\n",
    "#         output_summary='/path/to/newSummary.json',\n",
    "#         properties=prop)"
   ]
  },
  {
   "cell_type": "code",
   "execution_count": null,
   "id": "9e990bb6-54cc-4524-b348-ad04125f1f1c",
   "metadata": {},
   "outputs": [],
   "source": []
  }
 ],
 "metadata": {
  "kernelspec": {
   "display_name": "Python 3 (ipykernel)",
   "language": "python",
   "name": "python3"
  },
  "language_info": {
   "codemirror_mode": {
    "name": "ipython",
    "version": 3
   },
   "file_extension": ".py",
   "mimetype": "text/x-python",
   "name": "python",
   "nbconvert_exporter": "python",
   "pygments_lexer": "ipython3",
   "version": "3.7.12"
  }
 },
 "nbformat": 4,
 "nbformat_minor": 5
}
