{
 "cells": [
  {
   "cell_type": "code",
   "execution_count": null,
   "id": "b528cb41-087f-4e6d-9196-6f7b75869e23",
   "metadata": {},
   "outputs": [],
   "source": [
    "!sudo apt update --yes\n",
    "!sudo apt upgrade --yes\n",
    "!sudo apt install curl --yes"
   ]
  },
  {
   "cell_type": "code",
   "execution_count": 2,
   "id": "e4c66906-b053-4658-ad7d-5a340d1a5c92",
   "metadata": {},
   "outputs": [],
   "source": [
    "!chmod +x batch_download.sh"
   ]
  },
  {
   "cell_type": "code",
   "execution_count": 8,
   "id": "84e9a006-485c-4c14-9940-93c05a186732",
   "metadata": {},
   "outputs": [
    {
     "name": "stdout",
     "output_type": "stream",
     "text": [
      "Downloading https://files.rcsb.org/download/3P0V.pdb.gz to ./3P0V.pdb.gz\n",
      "Downloading https://files.rcsb.org/download/3GKW.pdb.gz to ./3GKW.pdb.gz\n",
      "Downloading https://files.rcsb.org/download/5GTY.pdb.gz to ./5GTY.pdb.gz\n"
     ]
    }
   ],
   "source": [
    "!./batch_download.sh -f list_file.txt -p"
   ]
  },
  {
   "cell_type": "code",
   "execution_count": 13,
   "id": "915c03bf-e745-4a51-8c11-ffa58206d65d",
   "metadata": {},
   "outputs": [
    {
     "data": {
      "text/plain": [
       "['3GKW.pdb.gz', '3P0V.pdb.gz', '5GTY.pdb.gz']"
      ]
     },
     "execution_count": 13,
     "metadata": {},
     "output_type": "execute_result"
    }
   ],
   "source": [
    "# list files\n",
    "import glob\n",
    "pdg_gz_files = sorted(glob.glob('*.pdb.gz'))\n",
    "pdg_gz_files"
   ]
  },
  {
   "cell_type": "code",
   "execution_count": 19,
   "id": "24941d58-0844-4134-830f-15589f180363",
   "metadata": {},
   "outputs": [
    {
     "name": "stdout",
     "output_type": "stream",
     "text": [
      "3GKW.pdb.gz\n",
      "3P0V.pdb.gz\n",
      "5GTY.pdb.gz\n"
     ]
    }
   ],
   "source": [
    "# extract/decompress gz files\n",
    "for pdg_gz_file in pdg_gz_files:\n",
    "    print(pdg_gz_file)\n",
    "    !gzip -d $pdg_gz_file"
   ]
  },
  {
   "cell_type": "code",
   "execution_count": null,
   "id": "c0be35ab-920c-453d-90bb-aabae3c55ab1",
   "metadata": {},
   "outputs": [],
   "source": []
  }
 ],
 "metadata": {
  "kernelspec": {
   "display_name": "Python 3 (ipykernel)",
   "language": "python",
   "name": "python3"
  },
  "language_info": {
   "codemirror_mode": {
    "name": "ipython",
    "version": 3
   },
   "file_extension": ".py",
   "mimetype": "text/x-python",
   "name": "python",
   "nbconvert_exporter": "python",
   "pygments_lexer": "ipython3",
   "version": "3.7.12"
  }
 },
 "nbformat": 4,
 "nbformat_minor": 5
}
