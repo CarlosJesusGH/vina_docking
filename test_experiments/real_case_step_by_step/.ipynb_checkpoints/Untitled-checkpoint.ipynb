{
 "cells": [
  {
   "cell_type": "code",
   "execution_count": 2,
   "id": "1ffca813-6b9d-4e73-803c-1999cb76fa05",
   "metadata": {},
   "outputs": [
    {
     "data": {
      "text/html": [
       "<script src=\"https://cdn.jsdelivr.net/npm/py3dmol@2.0.0/py3dmol.min.js\"></script>"
      ],
      "text/plain": [
       "<IPython.core.display.HTML object>"
      ]
     },
     "metadata": {},
     "output_type": "display_data"
    }
   ],
   "source": [
    "from IPython.display import display, HTML\n",
    "display(HTML('<script src=\"https://cdn.jsdelivr.net/npm/py3dmol@2.0.0/py3dmol.min.js\"></script>'))"
   ]
  },
  {
   "cell_type": "code",
   "execution_count": 5,
   "id": "6a11b18f-db2c-470f-8586-b60e1bd53bb2",
   "metadata": {},
   "outputs": [],
   "source": [
    "# import tools\n",
    "import sys, os; sys.path.append(os.path.realpath(os.path.join(os.getcwd(), \"../../\")))\n",
    "from tools import *\n",
    "# while updating modules\n",
    "# import importlib; importlib.reload(visualize_molecules)\n",
    "# import importlib; importlib.reload(utils)\n",
    "\n",
    "import ipywidgets\n",
    "import glob\n",
    "import ast\n",
    "from tqdm import tqdm\n",
    "import pandas as pd\n",
    "\n",
    "import rdkit\n",
    "from rdkit import Chem\n",
    "import meeko\n",
    "from meeko import MoleculePreparation\n",
    "from meeko import PDBQTMolecule\n",
    "from meeko import RDKitMolCreate\n",
    "from pymol import cmd\n",
    "from vina import Vina\n",
    "\n",
    "# Global variables\n",
    "dirs_dict = {'raw_ligands':'./raw_ligands/', 'prepared_ligands':'./prepared_ligands/', \n",
    "             'raw_receptors':'./raw_receptors/', 'prepared_receptors':'./prepared_receptors/', \n",
    "             'vina_scoring':'./vina_scoring/', 'vina_docking':'./vina_docking/'}\n",
    "vina_seed = 1"
   ]
  },
  {
   "cell_type": "code",
   "execution_count": 6,
   "id": "3b8574e5-15ca-404b-ad1e-2d636a806abf",
   "metadata": {},
   "outputs": [],
   "source": [
    "# List prepared molecules\n",
    "# receptor_paths, receptor_names = directory_scraping.list_files_in_dir(directory=dirs_dict['prepared_receptors'], search_pattern='*.pdb*')\n",
    "ligand_paths, ligand_names = directory_scraping.list_files_in_dir(directory=dirs_dict['prepared_ligands'], search_pattern='*.pdb*')\n",
    "mols = [parse_molecules.MolFromPDBQTBlock(block=open(ligand_path,'r').read(),sanitize=False,removeHs=False) \n",
    "        for ligand_path in ligand_paths]"
   ]
  },
  {
   "cell_type": "code",
   "execution_count": 7,
   "id": "49c99ec6-a684-42a3-b026-63ce5505a711",
   "metadata": {},
   "outputs": [
    {
     "data": {
      "application/vnd.jupyter.widget-view+json": {
       "model_id": "1e6998eb7a924a3ea3e487ca896291e0",
       "version_major": 2,
       "version_minor": 0
      },
      "text/plain": [
       "interactive(children=(IntSlider(value=1, description='idx', max=19, min=1), Dropdown(description='Style:', ind…"
      ]
     },
     "metadata": {},
     "output_type": "display_data"
    },
    {
     "data": {
      "text/plain": [
       "<function __main__.ligand_selector(idx, style, show_surface)>"
      ]
     },
     "execution_count": 7,
     "metadata": {},
     "output_type": "execute_result"
    }
   ],
   "source": [
    "def ligand_selector(idx, style, show_surface):\n",
    "    mol = mols[idx-1]\n",
    "    return visualize_molecules.show_3d_ligand(mol, style=style, surface=show_surface).show()\n",
    "\n",
    "# Interactive widgets\n",
    "ipywidgets.interact(ligand_selector, \n",
    "         idx = ipywidgets.IntSlider(min=1,max=len(mols), step=1),\n",
    "         style = ipywidgets.Dropdown(options=['line', 'stick', 'sphere'], value='stick', description='Style:'),\n",
    "         show_surface = ipywidgets.Checkbox(value=False, description='show surface')\n",
    "        )"
   ]
  },
  {
   "cell_type": "code",
   "execution_count": null,
   "id": "d32c26a0-3b93-4a48-8116-b29e2862831b",
   "metadata": {},
   "outputs": [],
   "source": []
  }
 ],
 "metadata": {
  "kernelspec": {
   "display_name": "Python 3 (ipykernel)",
   "language": "python",
   "name": "python3"
  },
  "language_info": {
   "codemirror_mode": {
    "name": "ipython",
    "version": 3
   },
   "file_extension": ".py",
   "mimetype": "text/x-python",
   "name": "python",
   "nbconvert_exporter": "python",
   "pygments_lexer": "ipython3",
   "version": "3.7.12"
  }
 },
 "nbformat": 4,
 "nbformat_minor": 5
}
