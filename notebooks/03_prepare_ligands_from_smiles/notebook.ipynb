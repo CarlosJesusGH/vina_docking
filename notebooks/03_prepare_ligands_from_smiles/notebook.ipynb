{
 "cells": [
  {
   "cell_type": "markdown",
   "id": "7af2848b-a26e-4c2d-8eda-c5f386ad000e",
   "metadata": {
    "jp-MarkdownHeadingCollapsed": true,
    "tags": []
   },
   "source": [
    "# **prepare current working directory (cwd)**"
   ]
  },
  {
   "cell_type": "code",
   "execution_count": null,
   "id": "6c1e0a1e-01c2-4774-ae5f-1ef125ebe728",
   "metadata": {
    "scrolled": true
   },
   "outputs": [],
   "source": [
    "%%bash\n",
    "# remove everything except this notebook\n",
    "shopt -s extglob\n",
    "rm -rf !(\"notebook.ipynb\") \n",
    "# to test any error in the terminal, use:\n",
    "# ipython3 -c \"%run notebook.ipynb\""
   ]
  },
  {
   "cell_type": "code",
   "execution_count": null,
   "id": "ebd1a945-627a-4533-b891-cb28f80744a9",
   "metadata": {
    "scrolled": true
   },
   "outputs": [],
   "source": [
    "# import tools\n",
    "import sys, os; sys.path.append(os.path.realpath(os.path.join(os.getcwd(), \"../../\")))\n",
    "from tools import *\n",
    "# while updating modules\n",
    "# import importlib; importlib.reload(visualize_molecules)\n",
    "# import importlib; importlib.reload(utils)\n",
    "\n",
    "import ipywidgets\n",
    "import glob\n",
    "import ast\n",
    "from tqdm import tqdm\n",
    "import pandas as pd\n",
    "\n",
    "import rdkit\n",
    "from rdkit import Chem\n",
    "import meeko\n",
    "from meeko import MoleculePreparation\n",
    "from meeko import PDBQTMolecule\n",
    "from meeko import RDKitMolCreate\n",
    "from pymol import cmd\n",
    "from vina import Vina\n",
    "\n",
    "import shutil\n",
    "from pdbfixer import PDBFixer\n",
    "from openmm.app import PDBFile\n",
    "\n",
    "# Global variables\n",
    "dirs_dict = {\n",
    "             'raw_ligands':'./raw_ligands/', \n",
    "             'prepared_ligands':'./prepared_ligands/', \n",
    "             # 'raw_receptors':'./raw_receptors/', \n",
    "             # 'prepared_receptors':'./prepared_receptors/', \n",
    "             # 'vina_scoring':'./vina_scoring/', \n",
    "             # 'vina_docking':'./vina_docking/'\n",
    "            }\n",
    "vina_seed = 1"
   ]
  },
  {
   "cell_type": "code",
   "execution_count": null,
   "id": "dab2a87b-9553-430c-87c2-4e1ee5cf38d1",
   "metadata": {
    "scrolled": true
   },
   "outputs": [],
   "source": [
    "# create empty directories\n",
    "directory_scraping.prepare_directory_from_dict(dirs_dict)"
   ]
  },
  {
   "cell_type": "code",
   "execution_count": null,
   "id": "01baa918-1105-4287-a733-32737be44a24",
   "metadata": {
    "scrolled": true
   },
   "outputs": [],
   "source": [
    "# list directory before execution\n",
    "!tree ."
   ]
  },
  {
   "cell_type": "markdown",
   "id": "410d9df6-971c-4e80-854e-a7212f7a64c6",
   "metadata": {
    "jp-MarkdownHeadingCollapsed": true,
    "tags": []
   },
   "source": [
    "# **build and prepare ligands**"
   ]
  },
  {
   "cell_type": "markdown",
   "id": "52d81e7d-66ea-463d-bfe9-9b6d5b5492d9",
   "metadata": {},
   "source": [
    "for comments and more info about this section, take a look at notebook in directory 'example_notebooks/example04 - prepare ligands'"
   ]
  },
  {
   "cell_type": "code",
   "execution_count": null,
   "id": "4892cdf1-3aaa-480c-8cb5-64e74f53daca",
   "metadata": {
    "scrolled": true
   },
   "outputs": [],
   "source": [
    "%%file {dirs_dict['raw_ligands']}list_ligands.txt\n",
    "O=Cc1ccc(O)c(OC)c1\n",
    "COc1cc(C=O)ccc1O\n",
    "CC(=O)NCCC1=CNc2c1cc(OC)cc2\n",
    "CC(=O)NCCc1c[nH]c2ccc(OC)cc12"
   ]
  },
  {
   "cell_type": "code",
   "execution_count": null,
   "id": "d855c9ec-ebc2-446f-bc4a-303c33a326cb",
   "metadata": {
    "scrolled": true
   },
   "outputs": [],
   "source": [
    "# create dataframe to register the optimal box size for each ligand\n",
    "ligands_opt_box_size = pd.DataFrame(columns=['ligand_name', 'optimal_box_size', 'euclid_dist_origin', 'ligand_center'])\n",
    "\n",
    "with open(dirs_dict['raw_ligands']+'list_ligands.txt') as f:\n",
    "    ligand_smis = f.readlines()\n",
    "\n",
    "# clear output directory\n",
    "directory_scraping.mkdir_or_clear(dirs_dict['prepared_ligands'])\n",
    "\n",
    "# print number of smiles in file\n",
    "print(\"len(ligand_smis)\", len(ligand_smis))\n",
    "    \n",
    "error_ligand_smis = []\n",
    "for idx, ligand_smi in enumerate(tqdm(ligand_smis), start=1):\n",
    "    # print(\"ligand_smi\", ligand_smi)\n",
    "    try:\n",
    "        ligand_name = 'ligand_' + f'{idx:03}'\n",
    "        ligand_smi = ligand_smi.strip()\n",
    "        # print(ligand_name, ligand_smi)\n",
    "        # load our ligand from SMILES into RDKit\n",
    "        lig = rdkit.Chem.MolFromSmiles(ligand_smi)\n",
    "        # add hydrogens (without regard to pH) \n",
    "        protonated_lig = rdkit.Chem.AddHs(lig)\n",
    "        # generate 3D coordinates for the ligand\n",
    "        rdkit.Chem.AllChem.EmbedMolecule(protonated_lig)\n",
    "        # convert to a PDBQT string using the MoleculePreparation class from Meeko.\n",
    "        meeko_prep = meeko.MoleculePreparation()\n",
    "        meeko_prep.prepare(protonated_lig)\n",
    "        lig_pdbqt = meeko_prep.write_pdbqt_string()\n",
    "        # At this point, pdbqt_string can be written to a file for docking with AutoDock-GPU or Vina, or passed directly to Vina within Python using set_ligand_from_string(pdbqt_string)\n",
    "        out_file_path = dirs_dict['prepared_ligands'] + ligand_name + '.pdbqt'\n",
    "        with open(out_file_path, \"w\") as text_file:\n",
    "            text_file.write(lig_pdbqt)\n",
    "        # compute optimal box size using https://www.ncbi.nlm.nih.gov/pmc/articles/PMC4468813/\n",
    "        optimal_box_size = ligand_preparation.get_optimal_box_size_for_ligand(out_file_path)\n",
    "        # print(\"optimal_box_size\", optimal_box_size)\n",
    "        # compute ligand center to make sure it is close to the origin\n",
    "        ligand_center, euclid_dist_origin = ligand_preparation.get_ligand_center(meeko_prep)\n",
    "        # update dataframe\n",
    "        ligands_opt_box_size = ligands_opt_box_size.append({'ligand_name':ligand_name, 'optimal_box_size':optimal_box_size, 'ligand_center':ligand_center, 'euclid_dist_origin':euclid_dist_origin}, ignore_index=True)\n",
    "    except Exception as e:\n",
    "        # print(\"An exception occurred with smi:\\n\", ligand_smi)\n",
    "        # print(\"exception\", e)\n",
    "        error_ligand_smis.append(ligand_smi)\n",
    "        \n",
    "# save dataframe to csv file\n",
    "ligands_opt_box_size.to_csv(dirs_dict['prepared_ligands']+'ligands_opt_box_size.csv', sep='\\t', index=False)\n",
    "# print dataframe\n",
    "ligands_opt_box_size"
   ]
  },
  {
   "cell_type": "code",
   "execution_count": null,
   "id": "73a41163",
   "metadata": {},
   "outputs": [],
   "source": [
    "# print all problematic smiles\n",
    "for lig in error_ligand_smis:\n",
    "    print(lig)"
   ]
  },
  {
   "cell_type": "markdown",
   "id": "03bed5d6-729d-4d69-9af6-604e21041905",
   "metadata": {
    "jp-MarkdownHeadingCollapsed": true,
    "tags": []
   },
   "source": [
    "# **export output to a safe directory**"
   ]
  },
  {
   "cell_type": "code",
   "execution_count": null,
   "id": "91270dd5-29ad-48b6-a59b-2826972139ef",
   "metadata": {},
   "outputs": [],
   "source": [
    "!cp -r {dirs_dict['prepared_ligands']}* ../../../data/prev_prepared_molecules/prev_prepared_ligands/"
   ]
  },
  {
   "cell_type": "code",
   "execution_count": null,
   "id": "47a36b5d-e03d-4f14-b9f5-1b0f534fdf02",
   "metadata": {},
   "outputs": [],
   "source": [
    "%%bash\n",
    "# remove everything except this notebook\n",
    "shopt -s extglob\n",
    "rm -rf !(\"notebook.ipynb\")\n",
    "\n",
    "# clear all output and save this notebook"
   ]
  }
 ],
 "metadata": {
  "kernelspec": {
   "display_name": "Python 3 (ipykernel)",
   "language": "python",
   "name": "python3"
  },
  "language_info": {
   "codemirror_mode": {
    "name": "ipython",
    "version": 3
   },
   "file_extension": ".py",
   "mimetype": "text/x-python",
   "name": "python",
   "nbconvert_exporter": "python",
   "pygments_lexer": "ipython3",
   "version": "3.7.12"
  },
  "vscode": {
   "interpreter": {
    "hash": "31f2aee4e71d21fbe5cf8b01ff0e069b9275f58929596ceb00d14d90e3e16cd6"
   }
  }
 },
 "nbformat": 4,
 "nbformat_minor": 5
}
