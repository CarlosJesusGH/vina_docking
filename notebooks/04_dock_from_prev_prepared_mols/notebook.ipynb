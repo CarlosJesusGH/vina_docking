{
 "cells": [
  {
   "cell_type": "markdown",
   "id": "7af2848b-a26e-4c2d-8eda-c5f386ad000e",
   "metadata": {
    "jp-MarkdownHeadingCollapsed": true,
    "tags": []
   },
   "source": [
    "# **prepare current working directory (cwd)**"
   ]
  },
  {
   "cell_type": "code",
   "execution_count": null,
   "id": "6c1e0a1e-01c2-4774-ae5f-1ef125ebe728",
   "metadata": {
    "scrolled": true
   },
   "outputs": [],
   "source": [
    "%%bash\n",
    "# remove everything except this notebook\n",
    "shopt -s extglob\n",
    "rm -rf !(\"notebook.ipynb\") \n",
    "# to test any error in the terminal, use:\n",
    "# ipython3 -c \"%run notebook.ipynb\""
   ]
  },
  {
   "cell_type": "code",
   "execution_count": null,
   "id": "ebd1a945-627a-4533-b891-cb28f80744a9",
   "metadata": {
    "scrolled": true
   },
   "outputs": [],
   "source": [
    "# import tools\n",
    "import sys, os; sys.path.append(os.path.realpath(os.path.join(os.getcwd(), \"../../\")))\n",
    "from tools import *\n",
    "# while updating modules\n",
    "# import importlib; importlib.reload(visualize_molecules)\n",
    "# import importlib; importlib.reload(utils)\n",
    "\n",
    "import ipywidgets\n",
    "import glob\n",
    "import ast\n",
    "from tqdm import tqdm\n",
    "import pandas as pd\n",
    "\n",
    "import rdkit\n",
    "from rdkit import Chem\n",
    "import meeko\n",
    "from meeko import MoleculePreparation\n",
    "from meeko import PDBQTMolecule\n",
    "from meeko import RDKitMolCreate\n",
    "from pymol import cmd\n",
    "from vina import Vina\n",
    "\n",
    "import shutil\n",
    "from pdbfixer import PDBFixer\n",
    "from openmm.app import PDBFile\n",
    "\n",
    "# Global variables\n",
    "dirs_dict = {\n",
    "             # 'raw_ligands':'./raw_ligands/', \n",
    "             'prepared_ligands':'../../../E*mutations/data/prev_prepared_molecules/prev_prepared_ligands/', \n",
    "             # 'raw_receptors':'./raw_receptors/', \n",
    "             'prepared_receptors':'../../../E*mutations/data/prev_prepared_molecules/prev_prepared_receptors/', \n",
    "             'vina_scoring':'./vina_scoring/', \n",
    "             'vina_docking':'./vina_docking/'\n",
    "            }\n",
    "vina_seed = 1"
   ]
  },
  {
   "cell_type": "code",
   "execution_count": null,
   "id": "dab2a87b-9553-430c-87c2-4e1ee5cf38d1",
   "metadata": {
    "scrolled": true
   },
   "outputs": [],
   "source": [
    "# create empty directories\n",
    "directory_scraping.prepare_directory_from_dict(dirs_dict)"
   ]
  },
  {
   "cell_type": "code",
   "execution_count": null,
   "id": "01baa918-1105-4287-a733-32737be44a24",
   "metadata": {
    "scrolled": true
   },
   "outputs": [],
   "source": [
    "# list directory before execution\n",
    "!tree ."
   ]
  },
  {
   "cell_type": "markdown",
   "id": "2ca638e9-9540-4e6a-9d03-b48b8b4bc483",
   "metadata": {
    "jp-MarkdownHeadingCollapsed": true,
    "tags": []
   },
   "source": [
    "# **vina-score all ligands into filtered-pockets**"
   ]
  },
  {
   "cell_type": "markdown",
   "id": "c0dfa048-1ecb-4bb1-a81f-356d84a8008e",
   "metadata": {},
   "source": [
    "for comments and more info about this section, take a look at notebooks in directories 'example08 - score all ligand per protein pockets' and 'example05 - locate ligand inside the box'"
   ]
  },
  {
   "cell_type": "code",
   "execution_count": null,
   "id": "06f1b755-17e8-4629-93d5-ed59e281cef4",
   "metadata": {
    "scrolled": true,
    "tags": []
   },
   "outputs": [],
   "source": [
    "merged_pockets_data = pd.read_csv(dirs_dict['prepared_receptors']+'merged_pockets_data.csv',sep='\\t')\n",
    "columns_to_keep = ['cav_id', 'drug_score', 'receptor_name', 'center', 'size', 'size_max', \n",
    "                   # 'volume', 'hydrophobicity_score', 'volume_score', 'charge_score','polarity_score', \n",
    "                  ]\n",
    "merged_pockets_data = merged_pockets_data[columns_to_keep]\n",
    "with pd.option_context('display.max_rows', None, 'display.max_columns', None):\n",
    "    display(merged_pockets_data)"
   ]
  },
  {
   "cell_type": "code",
   "execution_count": null,
   "id": "ccc698c5-8b21-494a-b2e3-a56b5d9ea956",
   "metadata": {},
   "outputs": [],
   "source": [
    "# when creating the box around the pocket, extend it by a few angstroms on each dimension\n",
    "# box_extra_angstroms = 1\n",
    "\n",
    "# List prepared molecules\n",
    "receptor_paths, receptor_names = directory_scraping.list_files_in_dir(directory=dirs_dict['prepared_receptors'], search_pattern='*.pdb*')\n",
    "ligand_paths, ligand_names = directory_scraping.list_files_in_dir(directory=dirs_dict['prepared_ligands'], search_pattern='*.pdb*')\n",
    "\n",
    "# load ligands_opt_box_size from csv file\n",
    "ligands_opt_box_size = pd.read_csv(dirs_dict['prepared_ligands']+'ligands_opt_box_size.csv',sep='\\t')\n",
    "ligands_opt_box_size"
   ]
  },
  {
   "cell_type": "code",
   "execution_count": null,
   "id": "a7667d5d-9141-45c9-b6eb-2ec10dd06030",
   "metadata": {
    "scrolled": true,
    "tags": []
   },
   "outputs": [],
   "source": [
    "# IMPORTANT: CHANGE THIS CELL AS YOU PREFER\n",
    "# filter the pockets according to your needs\n",
    "drug_score_min = 0.7\n",
    "max_num_pockets = 50 #20\n",
    "\n",
    "pockets_data = merged_pockets_data[merged_pockets_data['drug_score'] >= drug_score_min] \\\n",
    "                        .sort_values(by='drug_score', ascending=False) \\\n",
    "                        [0:max_num_pockets]\n",
    "with pd.option_context('display.max_rows', None, 'display.max_columns', None):\n",
    "    display(pockets_data)"
   ]
  },
  {
   "cell_type": "code",
   "execution_count": null,
   "id": "bd7d710f-bb78-4cbd-98f4-d659ae8c8d8a",
   "metadata": {},
   "outputs": [],
   "source": [
    "# filtered_receptors = \n",
    "# pockets_data[\"receptor_name\"]\n",
    "# len(pockets_data[\"receptor_name\"].unique())\n",
    "# pockets_data[\"receptor_name\"].unique()\n",
    "# vina_scores.columns"
   ]
  },
  {
   "cell_type": "code",
   "execution_count": null,
   "id": "ff5b123b-98dc-4880-acd8-61856dbb041a",
   "metadata": {
    "scrolled": true,
    "tags": []
   },
   "outputs": [],
   "source": [
    "# %%time\n",
    "# %%capture --no-stdout\n",
    "\n",
    "# Create new dataframe to save vina scores\n",
    "vina_scores = pd.DataFrame(columns=['receptor_name', 'pocket_id', 'ligand_name', 'pocket_box_center', 'pocket_box_size', \n",
    "                                    'vina_score_box_size', 'vina_score_before_min', 'vina_score_after_min', 'pose_before_min_path', 'pose_after_min_path'])\n",
    "\n",
    "# Iterate over receptors\n",
    "# for receptor_idx,receptor_path in enumerate(tqdm(receptor_paths)):\n",
    "for receptor_name in tqdm(pockets_data[\"receptor_name\"].unique()):\n",
    "    # print(\"\\n\\n\"+\"-\"*50, \"RECEPTOR {} out of {}\".format(i+1, len(receptor_paths)), receptor_path, sep='\\n')\n",
    "    # receptor_name = receptor_names[receptor_idx];\n",
    "    receptor_path = receptor_paths[receptor_names.index(receptor_name)]\n",
    "    # print(receptor_name, receptor_path)\n",
    "    # Iterate over the pockets available for the current receptor\n",
    "    for pocket_idx, pocket_row in pockets_data[pockets_data['receptor_name'] == receptor_name].sort_values(by='drug_score', ascending=False).iterrows():\n",
    "        pocket_cav_id = pocket_row['cav_id']\n",
    "        # print('Pocket number: ', pocket_id)\n",
    "        # print('drug_score: ', pocket_row['drug_score'])\n",
    "        pocket_box_center = ast.literal_eval(pocket_row['center'])\n",
    "        # print(\"pocket_box_center:\", pocket_box_center)\n",
    "        pocket_box_size = ast.literal_eval(pocket_row['size'])\n",
    "        pocket_box_size_max = pocket_row['size_max']\n",
    "        errors = []\n",
    "        # Iterate over ligands\n",
    "        for ligand_idx,ligand_path in enumerate(ligand_paths):\n",
    "            try:\n",
    "                # print(\"\\n\\t\"+\"-\"*50, \"\\tLIGAND {} out of {}\".format(j+1, len(ligand_paths)),\"\\t\" + ligand_path + \"\\n\", sep='\\n')\n",
    "                ligand_name = ligand_names[ligand_idx];\n",
    "                # Choose a box size for vina taking into consideration the size of the pocket and the size of the ligand\n",
    "                ligand_box_size = ligands_opt_box_size.loc[ligands_opt_box_size['ligand_name'] == ligand_name].iloc[0]['optimal_box_size']\n",
    "                # vina_box_size = [max(pocket_box_size, ligand_box_size) + box_extra_angstroms] * 3\n",
    "                vina_score_box_size = [ligand_box_size] * 3\n",
    "                # print(pocket_box_size)\n",
    "                # print(vina_score_box_size)\n",
    "                # Load ligand and move it to the center of the box\n",
    "                lig_pdbqt_string = ligand_preparation.translate_ligand_from_pdbqt(pdbqt_path=ligand_path, new_center=pocket_box_center, verbose=False)\n",
    "                # Prepare vina object\n",
    "                v = Vina(sf_name='vina', seed=vina_seed)  # default values: class vina.vina.Vina(sf_name='vina', cpu=0, seed=0, no_refine=False, verbosity=1)\n",
    "                v.set_receptor(receptor_path)\n",
    "                v.set_ligand_from_string(lig_pdbqt_string)\n",
    "                v.compute_vina_maps(center=pocket_box_center, box_size=vina_score_box_size)\n",
    "                # Score the current pose\n",
    "                energy = v.score()\n",
    "                vina_score_before_min = energy[0]\n",
    "                before_output_path = dirs_dict['vina_scoring'] + pocket_cav_id + '_' + ligand_name + '_before_min.pdbqt'\n",
    "                v.write_pose(before_output_path, overwrite=True)\n",
    "                # print('Score before minimization: %.3f (kcal/mol)' % vina_score_before_min)\n",
    "\n",
    "                # Minimized locally the current pose\n",
    "                energy_minimized = v.optimize()\n",
    "                vina_score_after_min = energy_minimized[0]\n",
    "                # print('Score after minimization : %.3f (kcal/mol)' % vina_score_after_min)\n",
    "                after_output_path = dirs_dict['vina_scoring'] + pocket_cav_id + '_' + ligand_name + '_after_min.pdbqt'\n",
    "                v.write_pose(after_output_path, overwrite=True)\n",
    "\n",
    "                # Save vina score in dataframe\n",
    "                vina_scores = vina_scores.append({'receptor_name': receptor_name, 'pocket_id': pocket_cav_id, 'ligand_name': ligand_name, \n",
    "                                                  'pocket_box_center': pocket_box_center, 'pocket_box_size': pocket_box_size,\n",
    "                                                  'vina_score_box_size': vina_score_box_size, \n",
    "                                                  'vina_score_before_min': vina_score_before_min, 'vina_score_after_min': vina_score_after_min,\n",
    "                                                 'pose_before_min_path': before_output_path, 'pose_after_min_path': after_output_path}, ignore_index=True)\n",
    "            except Exception as e:\n",
    "                # print(\"An exception occurred\")\n",
    "                print(\"exception\", e)\n",
    "                errors.append((receptor_name, pocket_cav_id, ligand_name))\n",
    "            # -----------------------------\n",
    "# Save vina_scoring data to csv file\n",
    "vina_scores = vina_scores.sort_values(by='vina_score_after_min', ascending=True)\n",
    "vina_scores.to_csv(dirs_dict['vina_scoring']+'vina_scores.csv', sep='\\t', index=False)\n",
    "# print(\"\\n\", \"-\"*50, \"\\n\")\n",
    "%ls {dirs_dict['vina_scoring']} -l"
   ]
  },
  {
   "cell_type": "code",
   "execution_count": null,
   "id": "add18b40",
   "metadata": {},
   "outputs": [],
   "source": [
    "# print info from all errors\n",
    "for error_info in errors:\n",
    "    print(error_info)"
   ]
  },
  {
   "cell_type": "code",
   "execution_count": null,
   "id": "97bf207f-1c75-4853-80f6-e783e75828af",
   "metadata": {
    "scrolled": true,
    "tags": []
   },
   "outputs": [],
   "source": [
    "# load data from file\n",
    "vina_scores = pd.read_csv(dirs_dict['vina_scoring']+'vina_scores.csv',sep='\\t')\n",
    "# Inspect vina_scoring data to decide on which dockings will be used from here onwards\n",
    "with pd.option_context('display.max_rows', None, 'display.max_columns', None):\n",
    "    display(vina_scores)"
   ]
  },
  {
   "cell_type": "code",
   "execution_count": null,
   "id": "3c514a9b-4584-4c42-8bfc-356c8f234200",
   "metadata": {
    "scrolled": true,
    "tags": []
   },
   "outputs": [],
   "source": [
    "!ls {dirs_dict['vina_scoring']}"
   ]
  },
  {
   "cell_type": "markdown",
   "id": "f9f55799-9b8c-481b-85af-ebcdd37a18b5",
   "metadata": {
    "jp-MarkdownHeadingCollapsed": true,
    "tags": []
   },
   "source": [
    "# **vina-dock filtered-ligands into filtered-pockets**"
   ]
  },
  {
   "cell_type": "markdown",
   "id": "f4a436b3-1314-47c6-a158-052964fc0da4",
   "metadata": {},
   "source": [
    "for comments and more info about this section, take a look at notebook in directory 'example09 - multiple docking'"
   ]
  },
  {
   "cell_type": "code",
   "execution_count": null,
   "id": "2281081b-8dd0-4f61-8637-ec780ffcc0b0",
   "metadata": {
    "scrolled": true,
    "tags": []
   },
   "outputs": [],
   "source": [
    "# IMPORTANT: CHANGE THIS CELL AS YOU PREFER\n",
    "# filter the vina_scores according to your needs\n",
    "vina_score_max = -1\n",
    "max_num_dockings = 50 # 20\n",
    "\n",
    "vina_scores = pd.read_csv(dirs_dict['vina_scoring']+'vina_scores.csv',sep='\\t')\n",
    "vina_scores_filtered = vina_scores[vina_scores['vina_score_after_min'] <= vina_score_max] \\\n",
    "                        .sort_values(by='vina_score_after_min', ascending=True) \\\n",
    "                        [0:max_num_dockings]\n",
    "vina_scores_filtered"
   ]
  },
  {
   "cell_type": "markdown",
   "id": "995a7091-1d48-4ceb-b808-ab05484f9d98",
   "metadata": {},
   "source": [
    "<span style='background:lightblue'> **Important** </span>\n",
    "\n",
    "<span style='background:lightblue'>\n",
    "from the official website: https://autodock-vina.readthedocs.io/en/latest/docking_python.html\n",
    "</span>\n",
    "\n",
    "```python\n",
    "# Dock the ligand\n",
    "v.dock(exhaustiveness=32, n_poses=20)\n",
    "v.write_poses('1iep_ligand_vina_out.pdbqt', n_poses=5, overwrite=True)\n",
    "```\n",
    "\n",
    "<span style='background:lightblue'>\n",
    "Finally, we run the molecular docking. Here we will ask Vina to run 32 consecutive Monte-Carlo samplings using the `exhaustiveness` argument and store 20 poses (n_poses) during the search. At the end, we will write a PDBQT file called `1iep_ligand_vina_out.pdbqt` containing only the 5 first poses (`n_poses`), ranked by score. Of course, this can be change to 20 to include all the poses that were saved during the calculations, at the condition that the energy difference between the best pose and the 20th pose if less than 3 kcal/mol. This behavior can be changed using the `energy_range` argument to an higher value.\n",
    "</span>"
   ]
  },
  {
   "cell_type": "code",
   "execution_count": null,
   "id": "7edb5347-f9e8-4e07-bc19-4446ba3c939d",
   "metadata": {},
   "outputs": [],
   "source": [
    "vina_exhaustiveness = 32    # default:32 \n",
    "vina_n_poses_to_dock = 20   # default:20\n",
    "vina_n_poses_to_write = 10  # default:5"
   ]
  },
  {
   "cell_type": "code",
   "execution_count": null,
   "id": "f38d17f6-04ed-4539-b70f-004e77d82b28",
   "metadata": {},
   "outputs": [],
   "source": [
    "# ligands_opt_box_size.loc[ligands_opt_box_size['ligand_name'] == 'ligand_001']['optimal_box_size']\n",
    "# ligand_name = 'ligand_001'\n",
    "# ligand_box_size"
   ]
  },
  {
   "cell_type": "code",
   "execution_count": null,
   "id": "96503593-6533-4ab3-94a8-8d32e9471fd0",
   "metadata": {
    "scrolled": true,
    "tags": []
   },
   "outputs": [],
   "source": [
    "# Create new dataframe to save vina scores\n",
    "vina_dockings = pd.DataFrame(columns=['receptor_name', 'pocket_id', 'ligand_name', 'vina_docking_best', 'vina_docking_values', 'pocket_box_center', 'vina_docking_box_size', 'output_path'])\n",
    "\n",
    "errors = []\n",
    "for scoring_row_idx, scoring_row in tqdm(vina_scores_filtered.iterrows()):\n",
    "# for scoring_row_idx, scoring_row in tqdm(vina_scores_filtered.iterrows()):\n",
    "    print(\"-\"*200)\n",
    "    # try:\n",
    "    if True:\n",
    "        # print(\"scoring_row\", scoring_row)\n",
    "        receptor_name = scoring_row['receptor_name']\n",
    "        receptor_path = dirs_dict['prepared_receptors'] + receptor_name + '.pdbqt'\n",
    "        pocket_id = scoring_row['pocket_id']\n",
    "        pocket_box_center = ast.literal_eval(scoring_row['pocket_box_center'])\n",
    "        pocket_box_size = ast.literal_eval(scoring_row['pocket_box_size'])\n",
    "        # extend the box a few angstroms\n",
    "        # vina_docking_box_size = [x + 10 for x in pocket_box_size]\n",
    "        vina_docking_box_size = [x + 5 for x in pocket_box_size]\n",
    "        ligand_name = scoring_row['ligand_name']\n",
    "        ligand_box_size = ligands_opt_box_size.loc[ligands_opt_box_size['ligand_name'] == ligand_name].iloc[0]['optimal_box_size']\n",
    "        print(vina_docking_box_size)\n",
    "        if max(vina_docking_box_size) < ligand_box_size:\n",
    "            # scale up\n",
    "            print(\"scaling up\")\n",
    "            scale = ligand_box_size / max(vina_docking_box_size)\n",
    "            vina_docking_box_size = [x * scale for x in vina_docking_box_size]\n",
    "            print(vina_docking_box_size)\n",
    "        # print(vina_docking_box_size)\n",
    "        ligand_path = dirs_dict['prepared_ligands'] + ligand_name + '.pdbqt'\n",
    "        lig_pdbqt_string = ligand_preparation.translate_ligand_from_pdbqt(pdbqt_path=ligand_path, new_center=pocket_box_center, verbose=False)\n",
    "        # print(\"scoring_row_idx\", scoring_row_idx, \"pocket_id\", pocket_id, \"ligand_name\", ligand_name)\n",
    "        display(vina_scores_filtered.iloc[[scoring_row_idx]])\n",
    "\n",
    "        # Prepare vina object\n",
    "        v = Vina(sf_name='vina', seed=vina_seed)  # default values: class vina.vina.Vina(sf_name='vina', cpu=0, seed=0, no_refine=False, verbosity=1)\n",
    "        v.set_receptor(receptor_path)\n",
    "        # v.set_ligand_from_string(lig_pdbqt_string)\n",
    "        v.set_ligand_from_string(open(scoring_row['pose_after_min_path'],'r').read())\n",
    "        v.compute_vina_maps(center=pocket_box_center, box_size=vina_docking_box_size)\n",
    "\n",
    "        # Score the current pose\n",
    "        # energy = v.score()\n",
    "        # vina_score_before_min = energy[0]\n",
    "        # print('Score before minimization: %.3f (kcal/mol)' % vina_score_before_min)\n",
    "        # Minimized locally the current pose\n",
    "        # energy_minimized = v.optimize()\n",
    "        # vina_score_after_min = energy_minimized[0]\n",
    "        # print('Score after minimization : %.3f (kcal/mol)' % vina_score_after_min)\n",
    "\n",
    "        # Dock the ligand\n",
    "        v.dock(exhaustiveness=vina_exhaustiveness, n_poses=vina_n_poses_to_dock)\n",
    "        output_path = dirs_dict['vina_docking'] + pocket_id + '_' + ligand_name + '_vina_out.pdbqt'\n",
    "        v.write_poses(output_path, n_poses=vina_n_poses_to_write, overwrite=True)\n",
    "        print(\"docking finished\")\n",
    "\n",
    "        # Get docking values from output\n",
    "        vina_docking_values = utils.get_scores_from_pdbqt(output_path)\n",
    "\n",
    "        # Save vina score in dataframe\n",
    "        vina_dockings = vina_dockings.append({'receptor_name': receptor_name, 'pocket_id': pocket_id, 'ligand_name': ligand_name, \n",
    "                                              'vina_docking_best': min(vina_docking_values), 'vina_docking_values': vina_docking_values,\n",
    "                                              'pocket_box_center': pocket_box_center, 'vina_docking_box_size': vina_docking_box_size,\n",
    "                                              'output_path': output_path}, ignore_index=True)\n",
    "    # except Exception as e:\n",
    "    #     # print(\"An exception occurred\")\n",
    "    #     # print(\"exception\", e)\n",
    "    #     errors.append((receptor_name, pocket_cav_id, ligand_name))\n",
    "\n",
    "# Save vina_scoring data to csv file\n",
    "vina_dockings = vina_dockings.sort_values(by='vina_docking_best', ascending=True)\n",
    "vina_dockings.to_csv(dirs_dict['vina_docking']+'vina_dockings.csv', sep='\\t', index=False)\n",
    "%ls {dirs_dict['vina_docking']} -l    "
   ]
  },
  {
   "cell_type": "code",
   "execution_count": null,
   "id": "60e06157",
   "metadata": {},
   "outputs": [],
   "source": [
    "# print info from all errors\n",
    "print(len(errors))\n",
    "for error_info in errors:\n",
    "    print(error_info)"
   ]
  },
  {
   "cell_type": "code",
   "execution_count": null,
   "id": "3b1020fa-cdab-4357-992a-a7354a479d47",
   "metadata": {
    "scrolled": true,
    "tags": []
   },
   "outputs": [],
   "source": [
    "vina_dockings"
   ]
  },
  {
   "cell_type": "code",
   "execution_count": null,
   "id": "dde27693-0813-42e7-af9f-af9f6acd3c75",
   "metadata": {
    "scrolled": true
   },
   "outputs": [],
   "source": [
    "# list directory after execution\n",
    "!tree ."
   ]
  },
  {
   "cell_type": "code",
   "execution_count": null,
   "id": "90414346-23b8-4e31-a044-0e478c855ee2",
   "metadata": {},
   "outputs": [],
   "source": []
  }
 ],
 "metadata": {
  "kernelspec": {
   "display_name": "Python 3 (ipykernel)",
   "language": "python",
   "name": "python3"
  },
  "language_info": {
   "codemirror_mode": {
    "name": "ipython",
    "version": 3
   },
   "file_extension": ".py",
   "mimetype": "text/x-python",
   "name": "python",
   "nbconvert_exporter": "python",
   "pygments_lexer": "ipython3",
   "version": "3.7.12"
  },
  "vscode": {
   "interpreter": {
    "hash": "31f2aee4e71d21fbe5cf8b01ff0e069b9275f58929596ceb00d14d90e3e16cd6"
   }
  }
 },
 "nbformat": 4,
 "nbformat_minor": 5
}
