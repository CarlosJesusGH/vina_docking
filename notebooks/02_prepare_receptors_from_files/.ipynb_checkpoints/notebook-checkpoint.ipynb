{
 "cells": [
  {
   "cell_type": "markdown",
   "id": "7af2848b-a26e-4c2d-8eda-c5f386ad000e",
   "metadata": {
    "jp-MarkdownHeadingCollapsed": true,
    "tags": []
   },
   "source": [
    "# **prepare current working directory (cwd)**"
   ]
  },
  {
   "cell_type": "code",
   "execution_count": null,
   "id": "6c1e0a1e-01c2-4774-ae5f-1ef125ebe728",
   "metadata": {
    "scrolled": true
   },
   "outputs": [],
   "source": [
    "%%bash\n",
    "# remove everything except this notebook\n",
    "shopt -s extglob\n",
    "rm -rf !(\"notebook.ipynb\")\n",
    "# to test any error in the terminal, use:\n",
    "# ipython3 -c \"%run notebook.ipynb\""
   ]
  },
  {
   "cell_type": "code",
   "execution_count": null,
   "id": "ebd1a945-627a-4533-b891-cb28f80744a9",
   "metadata": {
    "scrolled": true
   },
   "outputs": [],
   "source": [
    "# import tools\n",
    "import sys, os; sys.path.append(os.path.realpath(os.path.join(os.getcwd(), \"../../\")))\n",
    "from tools import *\n",
    "# while updating modules\n",
    "# import importlib; importlib.reload(visualize_molecules)\n",
    "# import importlib; importlib.reload(utils)\n",
    "\n",
    "import ipywidgets\n",
    "import glob\n",
    "import ast\n",
    "from tqdm import tqdm\n",
    "import pandas as pd\n",
    "\n",
    "import rdkit\n",
    "from rdkit import Chem\n",
    "import meeko\n",
    "from meeko import MoleculePreparation\n",
    "from meeko import PDBQTMolecule\n",
    "from meeko import RDKitMolCreate\n",
    "from pymol import cmd\n",
    "from vina import Vina\n",
    "\n",
    "import shutil\n",
    "from pdbfixer import PDBFixer\n",
    "from openmm.app import PDBFile\n",
    "\n",
    "# Global variables\n",
    "dirs_dict = {\n",
    "             # 'raw_ligands':'./raw_ligands/', \n",
    "             # 'prepared_ligands':'./prepared_ligands/', \n",
    "             'raw_receptors':'./raw_receptors/', \n",
    "             'prepared_receptors':'./prepared_receptors/', \n",
    "             # 'vina_scoring':'./vina_scoring/', \n",
    "             # 'vina_docking':'./vina_docking/'\n",
    "            }\n",
    "vina_seed = 1"
   ]
  },
  {
   "cell_type": "code",
   "execution_count": null,
   "id": "dab2a87b-9553-430c-87c2-4e1ee5cf38d1",
   "metadata": {
    "scrolled": true
   },
   "outputs": [],
   "source": [
    "# create empty directories\n",
    "directory_scraping.prepare_directory_from_dict(dirs_dict)"
   ]
  },
  {
   "cell_type": "code",
   "execution_count": null,
   "id": "01baa918-1105-4287-a733-32737be44a24",
   "metadata": {
    "scrolled": true
   },
   "outputs": [],
   "source": [
    "# list directory before execution\n",
    "!tree ."
   ]
  },
  {
   "cell_type": "markdown",
   "id": "e659f0c9-cef3-4b34-9df9-862703d383f7",
   "metadata": {
    "jp-MarkdownHeadingCollapsed": true,
    "tags": []
   },
   "source": [
    "# **read and prepare receptors with pockets**"
   ]
  },
  {
   "cell_type": "markdown",
   "id": "1bc398c9-4ff9-4686-94f8-f8315027d11b",
   "metadata": {
    "tags": []
   },
   "source": [
    "## read pdb files from dir download receptors"
   ]
  },
  {
   "cell_type": "code",
   "execution_count": null,
   "id": "b80adb50",
   "metadata": {},
   "outputs": [],
   "source": [
    "external_pdb_dir = \"../../../*_mutations/*_downloads/\"\n",
    "\n",
    "file_paths, file_names, subdirectory_names = directory_scraping.list_files_in_dir_recursively(external_pdb_dir, search_pattern='*.pdb')\n",
    "\n",
    "for i,file_path in enumerate(tqdm(file_paths)):\n",
    "    file_name = file_names[i]\n",
    "    subdirectory_name = subdirectory_names[i]\n",
    "    # shutil.copy(pdb_file, dirs_dict['raw_receptors'])\n",
    "    shutil.copy(file_path, dirs_dict['raw_receptors'] + subdirectory_name + '_' + file_name)\n",
    "    \n",
    "# 112 mutations * approx 6 files per mutation = approx 672 files\n",
    "!ls -1q {dirs_dict['raw_receptors']} | wc -l"
   ]
  },
  {
   "cell_type": "markdown",
   "id": "09091f76-3509-4baa-a143-9a6e27212f87",
   "metadata": {
    "tags": []
   },
   "source": [
    "## clean receptors and convert them to pdbqt"
   ]
  },
  {
   "cell_type": "markdown",
   "id": "653a6c49-146c-4f24-b8a9-8497e3777d5a",
   "metadata": {},
   "source": [
    "for comments and more info about this section, take a look at notebook in directory 'example03 - prepare receptors'"
   ]
  },
  {
   "cell_type": "code",
   "execution_count": null,
   "id": "1a797aa4-d2b5-4866-b3e9-364a8d641b26",
   "metadata": {
    "scrolled": true
   },
   "outputs": [],
   "source": [
    "receptor_paths, receptor_names = directory_scraping.list_files_in_dir(directory=dirs_dict['raw_receptors'], search_pattern='*.pdb*')\n",
    "\n",
    "errors_and_warnings = []\n",
    "for i,receptor_path in enumerate(tqdm(receptor_paths)):\n",
    "    # print(\"\\n\", \"-\"*50, \"\\n\\n\", receptor_path, \"\\n\")\n",
    "    receptor_name = receptor_names[i];\n",
    "    # check if output pdbqt file already exists\n",
    "    if os.path.exists(dirs_dict['prepared_receptors'] + receptor_name + \".pdbqt\"):\n",
    "        continue\n",
    "    # Summarizes the contents of a PDB file, like the wc command in UNIX.\n",
    "    # !pdb_wc $receptor_path\n",
    "    # -------------------------------------------------------------------------------\n",
    "    # step01: remove extra chains if more than one\n",
    "    fixer = PDBFixer(filename=receptor_path)\n",
    "    numChains = len(list(fixer.topology.chains()))\n",
    "    if numChains > 1:\n",
    "        step01_out = dirs_dict['prepared_receptors'] + receptor_name + \"_step01.pdb\"\n",
    "        # !pdb_selchain -A {receptor_path} > {step01_out}\n",
    "        fixer.removeChains(range(1, numChains))\n",
    "        PDBFile.writeFile(fixer.topology, fixer.positions, open(step01_out, 'w'))\n",
    "        errors_and_warnings.append((\"warning\", \"n_chains=\" + str(numChains), receptor_name))\n",
    "    else:\n",
    "        step01_out = receptor_path\n",
    "    # continue if last step didn't work\n",
    "    if not os.path.exists(step01_out):\n",
    "        errors_and_warnings.append((\"error\", \"performing step_01\", receptor_name))\n",
    "        continue\n",
    "    # -------------------------------------------------------------------------------\n",
    "    # step02: remove water molecules\n",
    "    # [-U]  cleanup type:\n",
    "    #              'nphs': merge charges and remove non-polar hydrogens\n",
    "    #              'lps': merge charges and remove lone pairs\n",
    "    #              'waters': remove water residues\n",
    "    #              'nonstdres': remove chains composed entirely of residues of\n",
    "    #                       types other than the standard 20 amino acids\n",
    "    #              'deleteAltB': remove XX@B atoms and rename XX@A atoms->XX\n",
    "    #              (default is 'nphs_lps_waters_nonstdres')\n",
    "    step02_out = dirs_dict['prepared_receptors'] + receptor_name + \"_step02.pdbqt\"\n",
    "    !prepare_receptor -r {step01_out} -o {step02_out} -U 'waters'\n",
    "    # continue if last step didn't work\n",
    "    if not os.path.exists(step02_out):\n",
    "        errors_and_warnings.append((\"error\", \"performing step_02\", receptor_name))\n",
    "        continue\n",
    "    # -------------------------------------------------------------------------------\n",
    "    # [-e]  delete every nonstd residue from any chain\n",
    "    #               'True': any residue whose name is not in this list:\n",
    "    #                       ['CYS','ILE','SER','VAL','GLN','LYS','ASN', \n",
    "    #                       'PRO','THR','PHE','ALA','HIS','GLY','ASP', \n",
    "    #                       'LEU', 'ARG', 'TRP', 'GLU', 'TYR','MET', \n",
    "    #                       'HID', 'HSP', 'HIE', 'HIP', 'CYX', 'CSS']\n",
    "    #               will be deleted from any chain. \n",
    "    #               NB: there are no  nucleic acid residue names at all \n",
    "    #               in the list and no metals. \n",
    "    #              (default is False which means not to do this)\n",
    "    step03_out = dirs_dict['prepared_receptors'] + receptor_name + \"_step03.pdbqt\"\n",
    "    !prepare_receptor -r {step02_out} -o {step03_out} -e\n",
    "    # continue if last step didn't work\n",
    "    if not os.path.exists(step03_out):\n",
    "        errors_and_warnings.append((\"error\", \"performing step_03\", receptor_name))\n",
    "        continue\n",
    "    # -------------------------------------------------------------------------------\n",
    "    # [-A]  type(s) of repairs to make: \n",
    "    #              'bonds_hydrogens': build bonds and add hydrogens \n",
    "    #              'bonds': build a single bond from each atom with no bonds to its closest neighbor\n",
    "    #              'hydrogens': add hydrogens\n",
    "    #              'checkhydrogens': add hydrogens only if there are none already\n",
    "    #              'None': do not make any repairs \n",
    "    #              (default is 'None')\n",
    "    step04_out = dirs_dict['prepared_receptors'] + receptor_name + \"_step04.pdbqt\"\n",
    "    !prepare_receptor -r {step03_out} -o {step04_out} -A 'hydrogens'\n",
    "    # continue if last step didn't work\n",
    "    if not os.path.exists(step04_out):\n",
    "        errors_and_warnings.append((\"error\", \"performing step_04\", receptor_name))\n",
    "        continue\n",
    "    # -------------------------------------------------------------------------------\n",
    "    # change name to last step and remove all middle-stage files\n",
    "    !mv {step04_out} {dirs_dict['prepared_receptors']}{receptor_name}\".pdbqt\"\n",
    "    !rm {dirs_dict['prepared_receptors']}*_step*\n",
    "    # -------------------------------------------------------------------------------\n",
    "# print and count files in output dir\n",
    "%ls {dirs_dict['prepared_receptors']} -l\n",
    "!ls -1q {dirs_dict['prepared_receptors']} | wc -l"
   ]
  },
  {
   "cell_type": "code",
   "execution_count": null,
   "id": "9496e30b-e5f0-4ec7-b9ed-6bfaea3cbb69",
   "metadata": {},
   "outputs": [],
   "source": [
    "errors_and_warnings\n",
    "# print only different\n",
    "# set([x[1] for x in errors_and_warnings])"
   ]
  },
  {
   "cell_type": "markdown",
   "id": "3d5770be-a43f-444b-9718-e322d4ec0dbf",
   "metadata": {
    "tags": []
   },
   "source": [
    "## find pockets in receptors"
   ]
  },
  {
   "cell_type": "markdown",
   "id": "5b7d9b55-e25a-46c2-b346-f84ff7814a11",
   "metadata": {},
   "source": [
    "for comments and more info about this section, take a look at notebook in directory 'example07 - find pockets in prepared_receptors'"
   ]
  },
  {
   "cell_type": "code",
   "execution_count": null,
   "id": "bb2b58d4-de23-4406-9423-44413af908bd",
   "metadata": {
    "scrolled": true
   },
   "outputs": [],
   "source": [
    "# List prepared_receptors\n",
    "receptor_paths, receptor_names = directory_scraping.list_files_in_dir(directory=dirs_dict['prepared_receptors'], search_pattern='*.pdb*')"
   ]
  },
  {
   "cell_type": "code",
   "execution_count": null,
   "id": "28629eb5-4cd4-4dd5-8f74-148c50c61fcc",
   "metadata": {
    "scrolled": true,
    "tags": []
   },
   "outputs": [],
   "source": [
    "# Execute fpocket for each receptor\n",
    "for i,receptor_path in enumerate(tqdm(receptor_paths)):\n",
    "    # print(\"\\n\", \"-\"*50, \"\\n\\n\", receptor_path, \"\\n\")\n",
    "    receptor_name = receptor_names[i]; #print(receptor_name)\n",
    "    # -------------------------------------------------------------------------------\n",
    "    # step01: compute pockets for each receptor\n",
    "    !fpocket -f {receptor_path} -d > 'prepared_receptors/fp_'{receptor_name}'.csv'\n",
    "    # print(\"fpocket finished running\")\n",
    "print(\"\\n\", \"-\"*50, \"\\n\")\n",
    "%ls {dirs_dict['prepared_receptors']} -l"
   ]
  },
  {
   "cell_type": "code",
   "execution_count": null,
   "id": "9f2f6d76-f68d-4288-8d78-21c8e1cb8d98",
   "metadata": {
    "scrolled": true,
    "tags": []
   },
   "outputs": [],
   "source": [
    "len(receptor_paths)"
   ]
  },
  {
   "cell_type": "code",
   "execution_count": null,
   "id": "10e1dd67-746c-4b33-a274-279531af4004",
   "metadata": {
    "scrolled": true,
    "tags": []
   },
   "outputs": [],
   "source": [
    "# Summarize fpocket data into tables\n",
    "list_pockets_data = []\n",
    "for i,receptor_path in enumerate(tqdm(receptor_paths)):\n",
    "    # print(\"\\n\", \"-\"*50, \"\\n\\n\", receptor_path, \"\\n\")\n",
    "    receptor_name = receptor_names[i];\n",
    "    pocket_paths = sorted(glob.glob(dirs_dict['prepared_receptors'] + receptor_name + '_out/*.pqr'))\n",
    "    # pockets_data = pd.read_csv(dirs_dict['prepared_receptors']+'fp_' + receptor_name + '.csv',sep=' ',index_col=[0])\n",
    "    pockets_data = pd.read_csv(dirs_dict['prepared_receptors']+'fp_' + receptor_name + '.csv',sep=' ',index_col=False).set_index('cav_id')\n",
    "    for cav_id, pocket_path in enumerate(pocket_paths, start=1):\n",
    "        drug_score = pockets_data[\"drug_score\"].loc[cav_id]\n",
    "        # compute the box center and size out from the pocket\n",
    "        pocket_num = cav_id\n",
    "        cmd.load(filename=pocket_path,format='pqr',object=pocket_num)\n",
    "        center,size = utils.getbox(selection=pocket_num,extending=0,software='vina')\n",
    "        center = [center['center_x'], center['center_y'], center['center_z']]\n",
    "        size = [size['size_x'], size['size_y'], size['size_z']]\n",
    "        size_max = max(size)\n",
    "        pockets_data.loc[pocket_num,'receptor_name'] = receptor_name\n",
    "        pockets_data.loc[pocket_num,'center'] = str(center)\n",
    "        pockets_data.loc[pocket_num,'size'] = str(size)\n",
    "        pockets_data.loc[pocket_num,'size_max'] = size_max\n",
    "    # update pockets data list index. add 'drug_id' to the beginning of each number\n",
    "    pockets_data.index = pockets_data.index.map(str)\n",
    "    pockets_data.index = receptor_name + '_' + pockets_data.index\n",
    "    # append it to list of dataframes\n",
    "    list_pockets_data.append(pockets_data)\n",
    "\n",
    "# Merge pockets data and sort it by the drugability score\n",
    "merged_pockets_data = pd.concat(list_pockets_data).sort_values(by=['drug_score'], ascending=False)\n",
    "# Save merged data to csv file\n",
    "merged_pockets_data.to_csv(dirs_dict['prepared_receptors']+'merged_pockets_data.csv', sep='\\t')\n",
    "# Re-read file to make sure everything is fine\n",
    "# merged_pockets_data = pd.read_csv(dirs_dict['prepared_receptors']+'merged_pockets_data.csv',sep='\\t')"
   ]
  },
  {
   "cell_type": "code",
   "execution_count": null,
   "id": "291c26e3-4dcd-411b-afb7-6e2054b07cd2",
   "metadata": {
    "scrolled": true,
    "tags": []
   },
   "outputs": [],
   "source": [
    "# Inspect pockets_data to decide on which pockets will be used from here onwards\n",
    "merged_pockets_data = pd.read_csv(dirs_dict['prepared_receptors']+'merged_pockets_data.csv',sep='\\t')\n",
    "columns_to_keep = ['cav_id', 'drug_score', 'receptor_name', 'center', 'size', 'size_max', \n",
    "                   # 'volume', 'hydrophobicity_score', 'volume_score', 'charge_score','polarity_score', \n",
    "                  ]\n",
    "merged_pockets_data = merged_pockets_data[columns_to_keep]\n",
    "with pd.option_context('display.max_rows', None, 'display.max_columns', None):\n",
    "    display(merged_pockets_data)"
   ]
  },
  {
   "cell_type": "markdown",
   "id": "afa03676-a7b6-4560-a7b0-0142c3b157e9",
   "metadata": {
    "jp-MarkdownHeadingCollapsed": true,
    "tags": []
   },
   "source": [
    "# **export output to a safe directory**"
   ]
  },
  {
   "cell_type": "code",
   "execution_count": null,
   "id": "aa61d58c-d2c4-4545-90e1-0697c14c72c3",
   "metadata": {},
   "outputs": [],
   "source": [
    "!cp -r {dirs_dict['prepared_receptors']}* ../../../data/prev_prepared_molecules/prev_prepared_receptors/"
   ]
  },
  {
   "cell_type": "code",
   "execution_count": null,
   "id": "50110c71-1184-4729-8861-5f0cf2f2c24f",
   "metadata": {},
   "outputs": [],
   "source": [
    "%%bash\n",
    "# remove everything except this notebook\n",
    "shopt -s extglob\n",
    "rm -rf !(\"notebook.ipynb\")\n",
    "\n",
    "# clear all output and save this notebook"
   ]
  }
 ],
 "metadata": {
  "kernelspec": {
   "display_name": "Python 3 (ipykernel)",
   "language": "python",
   "name": "python3"
  },
  "language_info": {
   "codemirror_mode": {
    "name": "ipython",
    "version": 3
   },
   "file_extension": ".py",
   "mimetype": "text/x-python",
   "name": "python",
   "nbconvert_exporter": "python",
   "pygments_lexer": "ipython3",
   "version": "3.7.12"
  }
 },
 "nbformat": 4,
 "nbformat_minor": 5
}
