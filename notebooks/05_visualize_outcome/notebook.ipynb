{
 "cells": [
  {
   "cell_type": "markdown",
   "id": "7af2848b-a26e-4c2d-8eda-c5f386ad000e",
   "metadata": {
    "jp-MarkdownHeadingCollapsed": true,
    "tags": []
   },
   "source": [
    "# **prepare current working directory (cwd)**"
   ]
  },
  {
   "cell_type": "code",
   "execution_count": null,
   "id": "6c1e0a1e-01c2-4774-ae5f-1ef125ebe728",
   "metadata": {
    "scrolled": true
   },
   "outputs": [],
   "source": [
    "%%bash\n",
    "# remove everything except this notebook\n",
    "shopt -s extglob\n",
    "rm -rf !(\"notebook.ipynb\") \n",
    "# to test any error in the terminal, use:\n",
    "# ipython3 -c \"%run notebook.ipynb\""
   ]
  },
  {
   "cell_type": "code",
   "execution_count": null,
   "id": "ebd1a945-627a-4533-b891-cb28f80744a9",
   "metadata": {
    "scrolled": true
   },
   "outputs": [],
   "source": [
    "# import tools\n",
    "import sys, os; sys.path.append(os.path.realpath(os.path.join(os.getcwd(), \"../../\")))\n",
    "from tools import *\n",
    "# while updating modules\n",
    "# import importlib; importlib.reload(visualize_molecules)\n",
    "# import importlib; importlib.reload(utils)\n",
    "\n",
    "import ipywidgets\n",
    "import glob\n",
    "import ast\n",
    "from tqdm import tqdm\n",
    "import pandas as pd\n",
    "\n",
    "import rdkit\n",
    "from rdkit import Chem\n",
    "import meeko\n",
    "from meeko import MoleculePreparation\n",
    "from meeko import PDBQTMolecule\n",
    "from meeko import RDKitMolCreate\n",
    "from pymol import cmd\n",
    "from vina import Vina\n",
    "\n",
    "import shutil\n",
    "from pdbfixer import PDBFixer\n",
    "from openmm.app import PDBFile\n",
    "\n",
    "# Global variables\n",
    "dirs_dict = {\n",
    "             # 'raw_ligands':'./raw_ligands/', \n",
    "             'prepared_ligands':'../../../E*mutations/data/prev_prepared_molecules/prev_prepared_ligands/', \n",
    "             # 'raw_receptors':'./raw_receptors/', \n",
    "             'prepared_receptors':'../../../E*mutations/data/prev_prepared_molecules/prev_prepared_receptors/', \n",
    "             'vina_scoring':'../04_dock_from_prev_prepared_mols/vina_scoring/', \n",
    "             'vina_docking':'../04_dock_from_prev_prepared_mols/vina_docking/'\n",
    "            }\n",
    "vina_seed = 1"
   ]
  },
  {
   "cell_type": "markdown",
   "id": "2d82f0b8-00ba-497a-9ac9-4a59161cf229",
   "metadata": {
    "jp-MarkdownHeadingCollapsed": true,
    "tags": []
   },
   "source": [
    "# **visualize**"
   ]
  },
  {
   "cell_type": "markdown",
   "id": "79ed62ff-562b-438d-b664-35128fadfd6f",
   "metadata": {},
   "source": [
    "for comments and more info about this section, take a look at notebook in directory 'example06 - visualize molecules'"
   ]
  },
  {
   "cell_type": "markdown",
   "id": "d4941a27-f6de-4c08-902e-a56a40519886",
   "metadata": {
    "jp-MarkdownHeadingCollapsed": true,
    "tags": []
   },
   "source": [
    "## visualize ligands\n",
    "\n",
    "ref: https://birdlet.github.io/2019/10/02/py3dmol_example/"
   ]
  },
  {
   "cell_type": "code",
   "execution_count": null,
   "id": "0429f61a-662b-46da-947a-ab1c2ec67e8d",
   "metadata": {},
   "outputs": [],
   "source": [
    "# List prepared molecules\n",
    "# receptor_paths, receptor_names = directory_scraping.list_files_in_dir(directory=dirs_dict['prepared_receptors'], search_pattern='*.pdb*')\n",
    "ligand_paths, ligand_names = directory_scraping.list_files_in_dir(directory=dirs_dict['prepared_ligands'], search_pattern='*.pdb*')\n",
    "mols = [] \n",
    "for ligand_path in ligand_paths:\n",
    "    try:\n",
    "        mol = parse_molecules.MolFromPDBQTBlock(block=ligand_path,sanitize=False,removeHs=False)\n",
    "        mols.append(mol)\n",
    "    except Exception as e:\n",
    "        print(\"An exception occurred\")\n",
    "        print(\"exception\", e)"
   ]
  },
  {
   "cell_type": "code",
   "execution_count": null,
   "id": "2a9247ae-e6dd-4f96-aa77-9f618377948d",
   "metadata": {},
   "outputs": [],
   "source": [
    "def ligand_selector(idx, style, show_surface):\n",
    "    mol = mols[idx-1]\n",
    "    return visualize_molecules.show_3d_ligand(mol, style=style, surface=show_surface).show()\n",
    "\n",
    "# Interactive widgets\n",
    "ipywidgets.interact(ligand_selector, \n",
    "         idx = ipywidgets.IntSlider(min=1,max=len(mols), step=1),\n",
    "         style = ipywidgets.Dropdown(options=['line', 'stick', 'sphere'], value='stick', description='Style:'),\n",
    "         show_surface = ipywidgets.Checkbox(value=False, description='show surface')\n",
    "        )"
   ]
  },
  {
   "cell_type": "markdown",
   "id": "b003a781-e74d-47ea-904e-9431e3b88768",
   "metadata": {
    "jp-MarkdownHeadingCollapsed": true,
    "tags": []
   },
   "source": [
    "## visualize receptors with pockets"
   ]
  },
  {
   "cell_type": "code",
   "execution_count": null,
   "id": "f7e564a4-40f5-4079-947d-f4c2b23c933d",
   "metadata": {},
   "outputs": [],
   "source": [
    "# List prepared molecules\n",
    "receptor_paths, receptor_names = directory_scraping.list_files_in_dir(directory=dirs_dict['prepared_receptors'], search_pattern='*.pdb*')"
   ]
  },
  {
   "cell_type": "code",
   "execution_count": null,
   "id": "ea806b44-4ce5-4f23-87f6-080e4d209b61",
   "metadata": {},
   "outputs": [],
   "source": [
    "def receptor_selector(idx, show_pockets, show_drug_score, show_surface):\n",
    "    receptor_path, receptor_name = receptor_paths[idx-1], receptor_names[idx-1]\n",
    "    pocket_paths = sorted(glob.glob(dirs_dict['prepared_receptors'] + receptor_name + '_out/*.pqr'))\n",
    "    pockets_data = pd.read_csv(dirs_dict['prepared_receptors']+'fp_' + receptor_name + '.csv',sep=' ',index_col=False).set_index('cav_id')\n",
    "    visualize_molecules.show_3d_receptor(receptor_path, receptor_name, \n",
    "                            show_pockets=show_pockets, show_drug_score=show_drug_score, show_surface=show_surface, \n",
    "                            pocket_paths=pocket_paths, pockets_data=pockets_data).show()\n",
    "    print(\"receptor_name:\", receptor_name)\n",
    "\n",
    "# Interactive widgets\n",
    "ipywidgets.interact(receptor_selector, \n",
    "                    idx = ipywidgets.IntSlider(min=1,max=len(receptor_paths), step=1),\n",
    "                    # style = ipywidgets.Dropdown(options=['line', 'stick', 'sphere'], value='stick', description='Style:'),\n",
    "                    show_pockets = ipywidgets.Checkbox(value=True, description='show pockets'),\n",
    "                    show_drug_score = ipywidgets.Checkbox(value=False, description='show pockets drug_score'),\n",
    "                    show_surface = ipywidgets.Checkbox(value=False, description='show surface')\n",
    "        )"
   ]
  },
  {
   "cell_type": "markdown",
   "id": "077e7045-024d-4b62-8375-0d06ddb8dac6",
   "metadata": {
    "jp-MarkdownHeadingCollapsed": true,
    "tags": []
   },
   "source": [
    "## visualize scorings"
   ]
  },
  {
   "cell_type": "code",
   "execution_count": null,
   "id": "7de8fa60-682e-46bd-a3f2-83983f7301d5",
   "metadata": {
    "scrolled": true,
    "tags": []
   },
   "outputs": [],
   "source": [
    "# IMPORTANT: CHANGE THIS CELL AS YOU PREFER\n",
    "# filter the vina_scores according to your needs\n",
    "vina_score_max = -1\n",
    "max_num_dockings = 20\n",
    "\n",
    "vina_scores = pd.read_csv(dirs_dict['vina_scoring']+'vina_scores.csv',sep='\\t')\n",
    "vina_scores_filtered = vina_scores[vina_scores['vina_score_after_min'] <= vina_score_max] \\\n",
    "                        .sort_values(by='vina_score_after_min', ascending=True) \\\n",
    "                        [0:max_num_dockings]\n",
    "vina_scores_filtered.rename(columns={'vina_score_box_size': 'vina_box_size'}, inplace=True)\n",
    "vina_scores_filtered"
   ]
  },
  {
   "cell_type": "code",
   "execution_count": null,
   "id": "1adf4fcf-ba47-4c93-9357-d7dd5c1ce17f",
   "metadata": {
    "tags": []
   },
   "outputs": [],
   "source": [
    "def vina_scoring_selector(show_pockets, show_drug_score, show_surface, show_vina_box, ligand_style, idx):\n",
    "    # Receptor related variables\n",
    "    scoring_row = vina_scores_filtered.iloc[idx]\n",
    "    receptor_name = scoring_row['receptor_name']\n",
    "    receptor_path = dirs_dict['prepared_receptors'] + receptor_name + '.pdbqt'\n",
    "    pocket_paths = sorted(glob.glob(dirs_dict['prepared_receptors'] + receptor_name + '_out/*.pqr'))\n",
    "    pockets_data = pd.read_csv(dirs_dict['prepared_receptors']+'fp_' + receptor_name + '.csv',sep=' ',index_col=False).set_index('cav_id')\n",
    "    # Ligands related variables\n",
    "    # pdbqt_mol = PDBQTMolecule.from_file(output_path, skip_typing=True)\n",
    "    # rdkitmol_list = RDKitMolCreate.from_pdbqt_mol(pdbqt_mol)\n",
    "    output_path = dirs_dict['vina_scoring'] + os.path.basename(scoring_row['pose_after_min_path'])\n",
    "    !mk_export.py {output_path} -o aux_rdkitmol_list.sdf\n",
    "    rdkitmol_list = [x for x in Chem.SDMolSupplier('aux_rdkitmol_list.sdf')]\n",
    "    output_path = dirs_dict['vina_scoring'] + os.path.basename(scoring_row['pose_before_min_path'])\n",
    "    !mk_export.py {output_path} -o aux_rdkitmol_list.sdf\n",
    "    [rdkitmol_list.append(x) for x in Chem.SDMolSupplier('aux_rdkitmol_list.sdf')]\n",
    "    # utils.pdbqt_to_sdf(pdbqt_file=output_path, output=dirs_dict['vina_scoring']+'aux_vina_out_sdf.sdf', include_data=False)\n",
    "    # rdkitmol_list = Chem.SDMolSupplier(dirs_dict['vina_scoring']+'aux_vina_out_sdf.sdf')\n",
    "    \n",
    "    # 3d plot\n",
    "    visualize_molecules.show_3d_vina_score_dock(receptor_path, receptor_name, show_pockets, show_drug_score, show_surface, \n",
    "                                                show_vina_box, ligand_style, rdkitmol_list, pocket_paths, pockets_data, \n",
    "                                                scoring_row, False).show()\n",
    "    \n",
    "    # Display selected row from dataframe\n",
    "    display(vina_scores_filtered.iloc[[idx]])\n",
    "\n",
    "# Interactive widgets\n",
    "ipywidgets.interact(vina_scoring_selector, \n",
    "                    idx = ipywidgets.IntSlider(min=0,max=len(vina_scores_filtered)-1, step=1),\n",
    "                    show_pockets = ipywidgets.Checkbox(value=False, description='show pockets'),\n",
    "                    show_drug_score = ipywidgets.Checkbox(value=False, description='show pockets drug_score'),\n",
    "                    show_surface = ipywidgets.Checkbox(value=False, description='show surface'),\n",
    "                    show_vina_box = ipywidgets.Checkbox(value=False, description='show box used for vina'),\n",
    "                    ligand_style = ipywidgets.Dropdown(options=['line', 'stick', 'sphere'], value='stick', description='ligand style:'),\n",
    "        )"
   ]
  },
  {
   "cell_type": "markdown",
   "id": "77c50e40-32b0-4bbb-8ace-6df584b98e18",
   "metadata": {
    "jp-MarkdownHeadingCollapsed": true,
    "tags": []
   },
   "source": [
    "## visualize dockings"
   ]
  },
  {
   "cell_type": "code",
   "execution_count": null,
   "id": "a357fccb-20fa-4426-8492-6663f87ca442",
   "metadata": {
    "scrolled": true,
    "tags": []
   },
   "outputs": [],
   "source": [
    "vina_dockings = pd.read_csv(dirs_dict['vina_docking']+'vina_dockings.csv',sep='\\t')\n",
    "vina_dockings.rename(columns={'vina_docking_box_size': 'vina_box_size'}, inplace=True)\n",
    "vina_dockings"
   ]
  },
  {
   "cell_type": "code",
   "execution_count": null,
   "id": "7063c0eb-5297-48da-8d63-fb18a583a574",
   "metadata": {},
   "outputs": [],
   "source": [
    "import importlib; importlib.reload(visualize_molecules)\n",
    "\n",
    "def vina_docking_selector(show_pockets, show_only_target_pocket, show_drug_score, show_surface, show_vina_box, show_only_best_pose, ligand_style, idx):\n",
    "    # Receptor related variables\n",
    "    docking_row = vina_dockings.iloc[idx]\n",
    "    receptor_name = docking_row['receptor_name']\n",
    "    receptor_path = dirs_dict['prepared_receptors'] + receptor_name + '.pdbqt'\n",
    "    pocket_paths = sorted(glob.glob(dirs_dict['prepared_receptors'] + receptor_name + '_out/*.pqr'))\n",
    "    pockets_data = pd.read_csv(dirs_dict['prepared_receptors']+'fp_' + receptor_name + '.csv',sep=' ',index_col=False).set_index('cav_id')\n",
    "    # Ligands related variables\n",
    "    output_path = dirs_dict['vina_docking'] + os.path.basename(docking_row['output_path'])\n",
    "    # pdbqt_mol = PDBQTMolecule.from_file(output_path, skip_typing=True)\n",
    "    # rdkitmol_list = RDKitMolCreate.from_pdbqt_mol(pdbqt_mol)\n",
    "    # from: https://github.com/forlilab/Meeko\n",
    "    !mk_export.py {output_path} -o aux_rdkitmol_list.sdf\n",
    "    rdkitmol_list = [x for x in Chem.SDMolSupplier('aux_rdkitmol_list.sdf')]\n",
    "    # utils.pdbqt_to_sdf(pdbqt_file=output_path, output=dirs_dict['vina_docking']+'aux_vina_out_sdf.sdf')\n",
    "    # rdkitmol_list = Chem.SDMolSupplier(dirs_dict['vina_docking']+'aux_vina_out_sdf.sdf')\n",
    "    pocket_id = None\n",
    "    if show_only_target_pocket:\n",
    "        pocket_id = docking_row['pocket_id']\n",
    "    \n",
    "    # 3d plot\n",
    "    visualize_molecules.show_3d_vina_score_dock(receptor_path, receptor_name, show_pockets, show_drug_score, show_surface, \n",
    "                                                show_vina_box, ligand_style, rdkitmol_list, pocket_paths, pockets_data, \n",
    "                                                docking_row, show_only_best_pose, pocket_id).show()\n",
    "    \n",
    "    # Display selected row from dataframe\n",
    "    display(vina_dockings.iloc[[idx]])\n",
    "\n",
    "# Interactive widgets\n",
    "ipywidgets.interact(vina_docking_selector, \n",
    "                    idx = ipywidgets.IntSlider(min=0,max=len(vina_dockings)-1, step=1),\n",
    "                    show_pockets = ipywidgets.Checkbox(value=False, description='show pockets'),\n",
    "                    show_only_target_pocket = ipywidgets.Checkbox(value=False, description='show_only_target_pocket'),\n",
    "                    show_drug_score = ipywidgets.Checkbox(value=False, description='show pockets drug_score'),\n",
    "                    show_surface = ipywidgets.Checkbox(value=False, description='show surface'),\n",
    "                    show_vina_box = ipywidgets.Checkbox(value=False, description='show box used for vina'),\n",
    "                    show_only_best_pose = ipywidgets.Checkbox(value=False, description='show only the best pose'),\n",
    "                    ligand_style = ipywidgets.Dropdown(options=['line', 'stick', 'sphere'], value='stick', description='ligand style:'),\n",
    "        )"
   ]
  }
 ],
 "metadata": {
  "kernelspec": {
   "display_name": "Python 3 (ipykernel)",
   "language": "python",
   "name": "python3"
  },
  "language_info": {
   "codemirror_mode": {
    "name": "ipython",
    "version": 3
   },
   "file_extension": ".py",
   "mimetype": "text/x-python",
   "name": "python",
   "nbconvert_exporter": "python",
   "pygments_lexer": "ipython3",
   "version": "3.7.12"
  },
  "vscode": {
   "interpreter": {
    "hash": "31f2aee4e71d21fbe5cf8b01ff0e069b9275f58929596ceb00d14d90e3e16cd6"
   }
  }
 },
 "nbformat": 4,
 "nbformat_minor": 5
}
